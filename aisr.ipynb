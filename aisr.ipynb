{
 "cells": [
  {
   "cell_type": "code",
   "execution_count": 1,
   "id": "b5152cf2",
   "metadata": {},
   "outputs": [],
   "source": [
    "from pandas import *\n",
    "from seaborn import *\n",
    "from sklearn.model_selection import train_test_split,cross_val_score,GridSearchCV,RandomizedSearchCV\n",
    "from sklearn.metrics import r2_score\n",
    "from sklearn.ensemble import RandomForestRegressor,ExtraTreesRegressor\n",
    "from sklearn.tree import DecisionTreeRegressor\n",
    "from sklearn.linear_model import LinearRegression\n",
    "from sklearn.svm import SVR\n",
    "from sklearn.preprocessing import LabelEncoder\n",
    "from sklearn.preprocessing import MinMaxScaler,StandardScaler\n",
    "from numpy import *\n",
    "from sklearn.cluster import KMeans\n",
    "import matplotlib.pyplot as plt\n",
    "from sklearn.feature_selection import SelectKBest,chi2\n",
    "from mpl_toolkits import mplot3d\n",
    "from sklearn.decomposition import PCA\n",
    "from sklearn.manifold import TSNE "
   ]
  },
  {
   "cell_type": "code",
   "execution_count": 2,
   "id": "083698cd",
   "metadata": {},
   "outputs": [
    {
     "data": {
      "text/html": [
       "<div>\n",
       "<style scoped>\n",
       "    .dataframe tbody tr th:only-of-type {\n",
       "        vertical-align: middle;\n",
       "    }\n",
       "\n",
       "    .dataframe tbody tr th {\n",
       "        vertical-align: top;\n",
       "    }\n",
       "\n",
       "    .dataframe thead th {\n",
       "        text-align: right;\n",
       "    }\n",
       "</style>\n",
       "<table border=\"1\" class=\"dataframe\">\n",
       "  <thead>\n",
       "    <tr style=\"text-align: right;\">\n",
       "      <th></th>\n",
       "      <th>Id</th>\n",
       "      <th>MSSubClass</th>\n",
       "      <th>MSZoning</th>\n",
       "      <th>LotFrontage</th>\n",
       "      <th>LotArea</th>\n",
       "      <th>Street</th>\n",
       "      <th>Alley</th>\n",
       "      <th>LotShape</th>\n",
       "      <th>LandContour</th>\n",
       "      <th>Utilities</th>\n",
       "      <th>...</th>\n",
       "      <th>PoolArea</th>\n",
       "      <th>PoolQC</th>\n",
       "      <th>Fence</th>\n",
       "      <th>MiscFeature</th>\n",
       "      <th>MiscVal</th>\n",
       "      <th>MoSold</th>\n",
       "      <th>YrSold</th>\n",
       "      <th>SaleType</th>\n",
       "      <th>SaleCondition</th>\n",
       "      <th>SalePrice</th>\n",
       "    </tr>\n",
       "  </thead>\n",
       "  <tbody>\n",
       "    <tr>\n",
       "      <th>943</th>\n",
       "      <td>944</td>\n",
       "      <td>90</td>\n",
       "      <td>RL</td>\n",
       "      <td>100.0</td>\n",
       "      <td>25000</td>\n",
       "      <td>Pave</td>\n",
       "      <td>NaN</td>\n",
       "      <td>Reg</td>\n",
       "      <td>Low</td>\n",
       "      <td>AllPub</td>\n",
       "      <td>...</td>\n",
       "      <td>0</td>\n",
       "      <td>NaN</td>\n",
       "      <td>NaN</td>\n",
       "      <td>NaN</td>\n",
       "      <td>0</td>\n",
       "      <td>6</td>\n",
       "      <td>2007</td>\n",
       "      <td>WD</td>\n",
       "      <td>Normal</td>\n",
       "      <td>143000</td>\n",
       "    </tr>\n",
       "    <tr>\n",
       "      <th>546</th>\n",
       "      <td>547</td>\n",
       "      <td>50</td>\n",
       "      <td>RL</td>\n",
       "      <td>70.0</td>\n",
       "      <td>8737</td>\n",
       "      <td>Pave</td>\n",
       "      <td>NaN</td>\n",
       "      <td>IR1</td>\n",
       "      <td>Bnk</td>\n",
       "      <td>AllPub</td>\n",
       "      <td>...</td>\n",
       "      <td>0</td>\n",
       "      <td>NaN</td>\n",
       "      <td>NaN</td>\n",
       "      <td>NaN</td>\n",
       "      <td>0</td>\n",
       "      <td>5</td>\n",
       "      <td>2007</td>\n",
       "      <td>WD</td>\n",
       "      <td>Normal</td>\n",
       "      <td>210000</td>\n",
       "    </tr>\n",
       "    <tr>\n",
       "      <th>643</th>\n",
       "      <td>644</td>\n",
       "      <td>60</td>\n",
       "      <td>RL</td>\n",
       "      <td>80.0</td>\n",
       "      <td>10793</td>\n",
       "      <td>Pave</td>\n",
       "      <td>NaN</td>\n",
       "      <td>Reg</td>\n",
       "      <td>Lvl</td>\n",
       "      <td>AllPub</td>\n",
       "      <td>...</td>\n",
       "      <td>0</td>\n",
       "      <td>NaN</td>\n",
       "      <td>GdWo</td>\n",
       "      <td>NaN</td>\n",
       "      <td>0</td>\n",
       "      <td>4</td>\n",
       "      <td>2007</td>\n",
       "      <td>WD</td>\n",
       "      <td>Normal</td>\n",
       "      <td>152000</td>\n",
       "    </tr>\n",
       "    <tr>\n",
       "      <th>712</th>\n",
       "      <td>713</td>\n",
       "      <td>120</td>\n",
       "      <td>RL</td>\n",
       "      <td>40.0</td>\n",
       "      <td>4671</td>\n",
       "      <td>Pave</td>\n",
       "      <td>NaN</td>\n",
       "      <td>IR1</td>\n",
       "      <td>HLS</td>\n",
       "      <td>AllPub</td>\n",
       "      <td>...</td>\n",
       "      <td>0</td>\n",
       "      <td>NaN</td>\n",
       "      <td>NaN</td>\n",
       "      <td>NaN</td>\n",
       "      <td>0</td>\n",
       "      <td>10</td>\n",
       "      <td>2008</td>\n",
       "      <td>WD</td>\n",
       "      <td>Normal</td>\n",
       "      <td>189000</td>\n",
       "    </tr>\n",
       "    <tr>\n",
       "      <th>1294</th>\n",
       "      <td>1295</td>\n",
       "      <td>20</td>\n",
       "      <td>RL</td>\n",
       "      <td>60.0</td>\n",
       "      <td>8172</td>\n",
       "      <td>Pave</td>\n",
       "      <td>NaN</td>\n",
       "      <td>Reg</td>\n",
       "      <td>Lvl</td>\n",
       "      <td>AllPub</td>\n",
       "      <td>...</td>\n",
       "      <td>0</td>\n",
       "      <td>NaN</td>\n",
       "      <td>NaN</td>\n",
       "      <td>NaN</td>\n",
       "      <td>0</td>\n",
       "      <td>4</td>\n",
       "      <td>2006</td>\n",
       "      <td>WD</td>\n",
       "      <td>Normal</td>\n",
       "      <td>115000</td>\n",
       "    </tr>\n",
       "  </tbody>\n",
       "</table>\n",
       "<p>5 rows × 81 columns</p>\n",
       "</div>"
      ],
      "text/plain": [
       "        Id  MSSubClass MSZoning  LotFrontage  LotArea Street Alley LotShape  \\\n",
       "943    944          90       RL        100.0    25000   Pave   NaN      Reg   \n",
       "546    547          50       RL         70.0     8737   Pave   NaN      IR1   \n",
       "643    644          60       RL         80.0    10793   Pave   NaN      Reg   \n",
       "712    713         120       RL         40.0     4671   Pave   NaN      IR1   \n",
       "1294  1295          20       RL         60.0     8172   Pave   NaN      Reg   \n",
       "\n",
       "     LandContour Utilities  ... PoolArea PoolQC Fence MiscFeature MiscVal  \\\n",
       "943          Low    AllPub  ...        0    NaN   NaN         NaN       0   \n",
       "546          Bnk    AllPub  ...        0    NaN   NaN         NaN       0   \n",
       "643          Lvl    AllPub  ...        0    NaN  GdWo         NaN       0   \n",
       "712          HLS    AllPub  ...        0    NaN   NaN         NaN       0   \n",
       "1294         Lvl    AllPub  ...        0    NaN   NaN         NaN       0   \n",
       "\n",
       "     MoSold YrSold  SaleType  SaleCondition  SalePrice  \n",
       "943       6   2007        WD         Normal     143000  \n",
       "546       5   2007        WD         Normal     210000  \n",
       "643       4   2007        WD         Normal     152000  \n",
       "712      10   2008        WD         Normal     189000  \n",
       "1294      4   2006        WD         Normal     115000  \n",
       "\n",
       "[5 rows x 81 columns]"
      ]
     },
     "execution_count": 2,
     "metadata": {},
     "output_type": "execute_result"
    }
   ],
   "source": [
    "t=read_csv('train (1).csv')\n",
    "t.sample(5)"
   ]
  },
  {
   "cell_type": "code",
   "execution_count": 3,
   "id": "a614e06b",
   "metadata": {},
   "outputs": [
    {
     "data": {
      "text/html": [
       "<div>\n",
       "<style scoped>\n",
       "    .dataframe tbody tr th:only-of-type {\n",
       "        vertical-align: middle;\n",
       "    }\n",
       "\n",
       "    .dataframe tbody tr th {\n",
       "        vertical-align: top;\n",
       "    }\n",
       "\n",
       "    .dataframe thead th {\n",
       "        text-align: right;\n",
       "    }\n",
       "</style>\n",
       "<table border=\"1\" class=\"dataframe\">\n",
       "  <thead>\n",
       "    <tr style=\"text-align: right;\">\n",
       "      <th></th>\n",
       "      <th>Id</th>\n",
       "      <th>MSSubClass</th>\n",
       "      <th>MSZoning</th>\n",
       "      <th>LotFrontage</th>\n",
       "      <th>LotArea</th>\n",
       "      <th>Street</th>\n",
       "      <th>Alley</th>\n",
       "      <th>LotShape</th>\n",
       "      <th>LandContour</th>\n",
       "      <th>Utilities</th>\n",
       "      <th>...</th>\n",
       "      <th>PoolArea</th>\n",
       "      <th>PoolQC</th>\n",
       "      <th>Fence</th>\n",
       "      <th>MiscFeature</th>\n",
       "      <th>MiscVal</th>\n",
       "      <th>MoSold</th>\n",
       "      <th>YrSold</th>\n",
       "      <th>SaleType</th>\n",
       "      <th>SaleCondition</th>\n",
       "      <th>SalePrice</th>\n",
       "    </tr>\n",
       "  </thead>\n",
       "  <tbody>\n",
       "    <tr>\n",
       "      <th>0</th>\n",
       "      <td>1</td>\n",
       "      <td>60</td>\n",
       "      <td>RL</td>\n",
       "      <td>65.0</td>\n",
       "      <td>8450</td>\n",
       "      <td>Pave</td>\n",
       "      <td>NaN</td>\n",
       "      <td>Reg</td>\n",
       "      <td>Lvl</td>\n",
       "      <td>AllPub</td>\n",
       "      <td>...</td>\n",
       "      <td>0</td>\n",
       "      <td>NaN</td>\n",
       "      <td>NaN</td>\n",
       "      <td>NaN</td>\n",
       "      <td>0</td>\n",
       "      <td>2</td>\n",
       "      <td>2008</td>\n",
       "      <td>WD</td>\n",
       "      <td>Normal</td>\n",
       "      <td>208500</td>\n",
       "    </tr>\n",
       "    <tr>\n",
       "      <th>1</th>\n",
       "      <td>2</td>\n",
       "      <td>20</td>\n",
       "      <td>RL</td>\n",
       "      <td>80.0</td>\n",
       "      <td>9600</td>\n",
       "      <td>Pave</td>\n",
       "      <td>NaN</td>\n",
       "      <td>Reg</td>\n",
       "      <td>Lvl</td>\n",
       "      <td>AllPub</td>\n",
       "      <td>...</td>\n",
       "      <td>0</td>\n",
       "      <td>NaN</td>\n",
       "      <td>NaN</td>\n",
       "      <td>NaN</td>\n",
       "      <td>0</td>\n",
       "      <td>5</td>\n",
       "      <td>2007</td>\n",
       "      <td>WD</td>\n",
       "      <td>Normal</td>\n",
       "      <td>181500</td>\n",
       "    </tr>\n",
       "    <tr>\n",
       "      <th>2</th>\n",
       "      <td>3</td>\n",
       "      <td>60</td>\n",
       "      <td>RL</td>\n",
       "      <td>68.0</td>\n",
       "      <td>11250</td>\n",
       "      <td>Pave</td>\n",
       "      <td>NaN</td>\n",
       "      <td>IR1</td>\n",
       "      <td>Lvl</td>\n",
       "      <td>AllPub</td>\n",
       "      <td>...</td>\n",
       "      <td>0</td>\n",
       "      <td>NaN</td>\n",
       "      <td>NaN</td>\n",
       "      <td>NaN</td>\n",
       "      <td>0</td>\n",
       "      <td>9</td>\n",
       "      <td>2008</td>\n",
       "      <td>WD</td>\n",
       "      <td>Normal</td>\n",
       "      <td>223500</td>\n",
       "    </tr>\n",
       "    <tr>\n",
       "      <th>3</th>\n",
       "      <td>4</td>\n",
       "      <td>70</td>\n",
       "      <td>RL</td>\n",
       "      <td>60.0</td>\n",
       "      <td>9550</td>\n",
       "      <td>Pave</td>\n",
       "      <td>NaN</td>\n",
       "      <td>IR1</td>\n",
       "      <td>Lvl</td>\n",
       "      <td>AllPub</td>\n",
       "      <td>...</td>\n",
       "      <td>0</td>\n",
       "      <td>NaN</td>\n",
       "      <td>NaN</td>\n",
       "      <td>NaN</td>\n",
       "      <td>0</td>\n",
       "      <td>2</td>\n",
       "      <td>2006</td>\n",
       "      <td>WD</td>\n",
       "      <td>Abnorml</td>\n",
       "      <td>140000</td>\n",
       "    </tr>\n",
       "    <tr>\n",
       "      <th>4</th>\n",
       "      <td>5</td>\n",
       "      <td>60</td>\n",
       "      <td>RL</td>\n",
       "      <td>84.0</td>\n",
       "      <td>14260</td>\n",
       "      <td>Pave</td>\n",
       "      <td>NaN</td>\n",
       "      <td>IR1</td>\n",
       "      <td>Lvl</td>\n",
       "      <td>AllPub</td>\n",
       "      <td>...</td>\n",
       "      <td>0</td>\n",
       "      <td>NaN</td>\n",
       "      <td>NaN</td>\n",
       "      <td>NaN</td>\n",
       "      <td>0</td>\n",
       "      <td>12</td>\n",
       "      <td>2008</td>\n",
       "      <td>WD</td>\n",
       "      <td>Normal</td>\n",
       "      <td>250000</td>\n",
       "    </tr>\n",
       "    <tr>\n",
       "      <th>...</th>\n",
       "      <td>...</td>\n",
       "      <td>...</td>\n",
       "      <td>...</td>\n",
       "      <td>...</td>\n",
       "      <td>...</td>\n",
       "      <td>...</td>\n",
       "      <td>...</td>\n",
       "      <td>...</td>\n",
       "      <td>...</td>\n",
       "      <td>...</td>\n",
       "      <td>...</td>\n",
       "      <td>...</td>\n",
       "      <td>...</td>\n",
       "      <td>...</td>\n",
       "      <td>...</td>\n",
       "      <td>...</td>\n",
       "      <td>...</td>\n",
       "      <td>...</td>\n",
       "      <td>...</td>\n",
       "      <td>...</td>\n",
       "      <td>...</td>\n",
       "    </tr>\n",
       "    <tr>\n",
       "      <th>1455</th>\n",
       "      <td>1456</td>\n",
       "      <td>60</td>\n",
       "      <td>RL</td>\n",
       "      <td>62.0</td>\n",
       "      <td>7917</td>\n",
       "      <td>Pave</td>\n",
       "      <td>NaN</td>\n",
       "      <td>Reg</td>\n",
       "      <td>Lvl</td>\n",
       "      <td>AllPub</td>\n",
       "      <td>...</td>\n",
       "      <td>0</td>\n",
       "      <td>NaN</td>\n",
       "      <td>NaN</td>\n",
       "      <td>NaN</td>\n",
       "      <td>0</td>\n",
       "      <td>8</td>\n",
       "      <td>2007</td>\n",
       "      <td>WD</td>\n",
       "      <td>Normal</td>\n",
       "      <td>175000</td>\n",
       "    </tr>\n",
       "    <tr>\n",
       "      <th>1456</th>\n",
       "      <td>1457</td>\n",
       "      <td>20</td>\n",
       "      <td>RL</td>\n",
       "      <td>85.0</td>\n",
       "      <td>13175</td>\n",
       "      <td>Pave</td>\n",
       "      <td>NaN</td>\n",
       "      <td>Reg</td>\n",
       "      <td>Lvl</td>\n",
       "      <td>AllPub</td>\n",
       "      <td>...</td>\n",
       "      <td>0</td>\n",
       "      <td>NaN</td>\n",
       "      <td>MnPrv</td>\n",
       "      <td>NaN</td>\n",
       "      <td>0</td>\n",
       "      <td>2</td>\n",
       "      <td>2010</td>\n",
       "      <td>WD</td>\n",
       "      <td>Normal</td>\n",
       "      <td>210000</td>\n",
       "    </tr>\n",
       "    <tr>\n",
       "      <th>1457</th>\n",
       "      <td>1458</td>\n",
       "      <td>70</td>\n",
       "      <td>RL</td>\n",
       "      <td>66.0</td>\n",
       "      <td>9042</td>\n",
       "      <td>Pave</td>\n",
       "      <td>NaN</td>\n",
       "      <td>Reg</td>\n",
       "      <td>Lvl</td>\n",
       "      <td>AllPub</td>\n",
       "      <td>...</td>\n",
       "      <td>0</td>\n",
       "      <td>NaN</td>\n",
       "      <td>GdPrv</td>\n",
       "      <td>Shed</td>\n",
       "      <td>2500</td>\n",
       "      <td>5</td>\n",
       "      <td>2010</td>\n",
       "      <td>WD</td>\n",
       "      <td>Normal</td>\n",
       "      <td>266500</td>\n",
       "    </tr>\n",
       "    <tr>\n",
       "      <th>1458</th>\n",
       "      <td>1459</td>\n",
       "      <td>20</td>\n",
       "      <td>RL</td>\n",
       "      <td>68.0</td>\n",
       "      <td>9717</td>\n",
       "      <td>Pave</td>\n",
       "      <td>NaN</td>\n",
       "      <td>Reg</td>\n",
       "      <td>Lvl</td>\n",
       "      <td>AllPub</td>\n",
       "      <td>...</td>\n",
       "      <td>0</td>\n",
       "      <td>NaN</td>\n",
       "      <td>NaN</td>\n",
       "      <td>NaN</td>\n",
       "      <td>0</td>\n",
       "      <td>4</td>\n",
       "      <td>2010</td>\n",
       "      <td>WD</td>\n",
       "      <td>Normal</td>\n",
       "      <td>142125</td>\n",
       "    </tr>\n",
       "    <tr>\n",
       "      <th>1459</th>\n",
       "      <td>1460</td>\n",
       "      <td>20</td>\n",
       "      <td>RL</td>\n",
       "      <td>75.0</td>\n",
       "      <td>9937</td>\n",
       "      <td>Pave</td>\n",
       "      <td>NaN</td>\n",
       "      <td>Reg</td>\n",
       "      <td>Lvl</td>\n",
       "      <td>AllPub</td>\n",
       "      <td>...</td>\n",
       "      <td>0</td>\n",
       "      <td>NaN</td>\n",
       "      <td>NaN</td>\n",
       "      <td>NaN</td>\n",
       "      <td>0</td>\n",
       "      <td>6</td>\n",
       "      <td>2008</td>\n",
       "      <td>WD</td>\n",
       "      <td>Normal</td>\n",
       "      <td>147500</td>\n",
       "    </tr>\n",
       "  </tbody>\n",
       "</table>\n",
       "<p>1460 rows × 81 columns</p>\n",
       "</div>"
      ],
      "text/plain": [
       "        Id  MSSubClass MSZoning  LotFrontage  LotArea Street Alley LotShape  \\\n",
       "0        1          60       RL         65.0     8450   Pave   NaN      Reg   \n",
       "1        2          20       RL         80.0     9600   Pave   NaN      Reg   \n",
       "2        3          60       RL         68.0    11250   Pave   NaN      IR1   \n",
       "3        4          70       RL         60.0     9550   Pave   NaN      IR1   \n",
       "4        5          60       RL         84.0    14260   Pave   NaN      IR1   \n",
       "...    ...         ...      ...          ...      ...    ...   ...      ...   \n",
       "1455  1456          60       RL         62.0     7917   Pave   NaN      Reg   \n",
       "1456  1457          20       RL         85.0    13175   Pave   NaN      Reg   \n",
       "1457  1458          70       RL         66.0     9042   Pave   NaN      Reg   \n",
       "1458  1459          20       RL         68.0     9717   Pave   NaN      Reg   \n",
       "1459  1460          20       RL         75.0     9937   Pave   NaN      Reg   \n",
       "\n",
       "     LandContour Utilities  ... PoolArea PoolQC  Fence MiscFeature MiscVal  \\\n",
       "0            Lvl    AllPub  ...        0    NaN    NaN         NaN       0   \n",
       "1            Lvl    AllPub  ...        0    NaN    NaN         NaN       0   \n",
       "2            Lvl    AllPub  ...        0    NaN    NaN         NaN       0   \n",
       "3            Lvl    AllPub  ...        0    NaN    NaN         NaN       0   \n",
       "4            Lvl    AllPub  ...        0    NaN    NaN         NaN       0   \n",
       "...          ...       ...  ...      ...    ...    ...         ...     ...   \n",
       "1455         Lvl    AllPub  ...        0    NaN    NaN         NaN       0   \n",
       "1456         Lvl    AllPub  ...        0    NaN  MnPrv         NaN       0   \n",
       "1457         Lvl    AllPub  ...        0    NaN  GdPrv        Shed    2500   \n",
       "1458         Lvl    AllPub  ...        0    NaN    NaN         NaN       0   \n",
       "1459         Lvl    AllPub  ...        0    NaN    NaN         NaN       0   \n",
       "\n",
       "     MoSold YrSold  SaleType  SaleCondition  SalePrice  \n",
       "0         2   2008        WD         Normal     208500  \n",
       "1         5   2007        WD         Normal     181500  \n",
       "2         9   2008        WD         Normal     223500  \n",
       "3         2   2006        WD        Abnorml     140000  \n",
       "4        12   2008        WD         Normal     250000  \n",
       "...     ...    ...       ...            ...        ...  \n",
       "1455      8   2007        WD         Normal     175000  \n",
       "1456      2   2010        WD         Normal     210000  \n",
       "1457      5   2010        WD         Normal     266500  \n",
       "1458      4   2010        WD         Normal     142125  \n",
       "1459      6   2008        WD         Normal     147500  \n",
       "\n",
       "[1460 rows x 81 columns]"
      ]
     },
     "execution_count": 3,
     "metadata": {},
     "output_type": "execute_result"
    }
   ],
   "source": [
    "t[t.isnull().any(axis=1)]"
   ]
  },
  {
   "cell_type": "code",
   "execution_count": 4,
   "id": "5e0276db",
   "metadata": {},
   "outputs": [
    {
     "data": {
      "text/plain": [
       "(1460, 81)"
      ]
     },
     "execution_count": 4,
     "metadata": {},
     "output_type": "execute_result"
    }
   ],
   "source": [
    "t.shape"
   ]
  },
  {
   "cell_type": "code",
   "execution_count": 5,
   "id": "6a1ce24f",
   "metadata": {},
   "outputs": [],
   "source": [
    "t.drop(['Id','Alley','PoolQC','MiscFeature','Fence','FireplaceQu'],axis=1,inplace=True)"
   ]
  },
  {
   "cell_type": "code",
   "execution_count": 6,
   "id": "b5b412a1",
   "metadata": {},
   "outputs": [
    {
     "data": {
      "text/plain": [
       "0       65.0\n",
       "1       80.0\n",
       "2       68.0\n",
       "3       60.0\n",
       "4       84.0\n",
       "        ... \n",
       "1455    62.0\n",
       "1456    85.0\n",
       "1457    66.0\n",
       "1458    68.0\n",
       "1459    75.0\n",
       "Name: LotFrontage, Length: 1460, dtype: float64"
      ]
     },
     "execution_count": 6,
     "metadata": {},
     "output_type": "execute_result"
    }
   ],
   "source": [
    "t.LotFrontage"
   ]
  },
  {
   "cell_type": "code",
   "execution_count": 7,
   "id": "fc432a2b",
   "metadata": {},
   "outputs": [],
   "source": [
    "def pdf(y):\n",
    "    o=[]\n",
    "    m=mean(y)\n",
    "    s=std(y)\n",
    "    for i in y:\n",
    "        o.append(1/(s*sqrt(2*pi))*exp(-(i-m)**2/(2*s**2)))\n",
    "    return o"
   ]
  },
  {
   "cell_type": "code",
   "execution_count": 8,
   "id": "4e26abf1",
   "metadata": {},
   "outputs": [],
   "source": [
    "def per(y):\n",
    "    l=[]\n",
    "    q1,q2=percentile(sorted(y),[25,75])\n",
    "    iqr=q2-q1\n",
    "    low=q1-(1.5*iqr)\n",
    "    high=q2+(1.5*iqr)\n",
    "    l.append(low)\n",
    "    l.append(high)\n",
    "    return l"
   ]
  },
  {
   "cell_type": "code",
   "execution_count": 9,
   "id": "f2248fe8",
   "metadata": {},
   "outputs": [],
   "source": [
    "t1=t.LotFrontage\n",
    "t1.dropna(inplace=True)"
   ]
  },
  {
   "cell_type": "code",
   "execution_count": 10,
   "id": "a306df37",
   "metadata": {},
   "outputs": [
    {
     "name": "stderr",
     "output_type": "stream",
     "text": [
      "C:\\Users\\boddu\\anaconda3\\lib\\site-packages\\seaborn\\_decorators.py:36: FutureWarning: Pass the following variable as a keyword arg: x. From version 0.12, the only valid positional argument will be `data`, and passing other arguments without an explicit keyword will result in an error or misinterpretation.\n",
      "  warnings.warn(\n"
     ]
    },
    {
     "data": {
      "text/plain": [
       "<AxesSubplot:xlabel='LotFrontage'>"
      ]
     },
     "execution_count": 10,
     "metadata": {},
     "output_type": "execute_result"
    },
    {
     "data": {
      "image/png": "[encoded data removed]",
      "text/plain": [
       "<Figure size 640x480 with 1 Axes>"
      ]
     },
     "metadata": {},
     "output_type": "display_data"
    }
   ],
   "source": [
    "boxplot(t.LotFrontage)"
   ]
  },
  {
   "cell_type": "code",
   "execution_count": 11,
   "id": "4bcb7edb",
   "metadata": {},
   "outputs": [],
   "source": [
    "l=per(t1)"
   ]
  },
  {
   "cell_type": "code",
   "execution_count": 12,
   "id": "c1db654b",
   "metadata": {},
   "outputs": [
    {
     "data": {
      "text/plain": [
       "[27.5, 111.5]"
      ]
     },
     "execution_count": 12,
     "metadata": {},
     "output_type": "execute_result"
    }
   ],
   "source": [
    "l"
   ]
  },
  {
   "cell_type": "code",
   "execution_count": 13,
   "id": "61dab172",
   "metadata": {},
   "outputs": [
    {
     "data": {
      "text/plain": [
       "69.0"
      ]
     },
     "execution_count": 13,
     "metadata": {},
     "output_type": "execute_result"
    }
   ],
   "source": [
    "t1.median()"
   ]
  },
  {
   "cell_type": "code",
   "execution_count": 14,
   "id": "4d342b74",
   "metadata": {},
   "outputs": [],
   "source": [
    "t.LotFrontage.fillna(t1.median(),inplace=True)"
   ]
  },
  {
   "cell_type": "code",
   "execution_count": 15,
   "id": "7c91a55b",
   "metadata": {},
   "outputs": [],
   "source": [
    "t=t[t.LotFrontage>31.5]"
   ]
  },
  {
   "cell_type": "code",
   "execution_count": 16,
   "id": "50b94175",
   "metadata": {},
   "outputs": [],
   "source": [
    "t=t[t.LotFrontage<107.5]"
   ]
  },
  {
   "cell_type": "code",
   "execution_count": 17,
   "id": "bf18c8e4",
   "metadata": {},
   "outputs": [],
   "source": [
    "s=StandardScaler()\n",
    "t.LotFrontage=s.fit_transform(array(t.LotFrontage).reshape(-1,1))"
   ]
  },
  {
   "cell_type": "code",
   "execution_count": 18,
   "id": "be81549e",
   "metadata": {},
   "outputs": [
    {
     "name": "stderr",
     "output_type": "stream",
     "text": [
      "C:\\Users\\boddu\\anaconda3\\lib\\site-packages\\seaborn\\_decorators.py:36: FutureWarning: Pass the following variables as keyword args: x, y. From version 0.12, the only valid positional argument will be `data`, and passing other arguments without an explicit keyword will result in an error or misinterpretation.\n",
      "  warnings.warn(\n"
     ]
    },
    {
     "data": {
      "text/plain": [
       "<AxesSubplot:xlabel='LotFrontage'>"
      ]
     },
     "execution_count": 18,
     "metadata": {},
     "output_type": "execute_result"
    },
    {
     "data": {
      "image/png": "[encoded data removed]",
      "text/plain": [
       "<Figure size 640x480 with 1 Axes>"
      ]
     },
     "metadata": {},
     "output_type": "display_data"
    }
   ],
   "source": [
    "lineplot(t.LotFrontage,pdf(t.LotFrontage),marker='>')"
   ]
  },
  {
   "cell_type": "code",
   "execution_count": 19,
   "id": "dbf3f0c3",
   "metadata": {},
   "outputs": [
    {
     "data": {
      "text/plain": [
       "0       RL\n",
       "1       RL\n",
       "2       RL\n",
       "3       RL\n",
       "4       RL\n",
       "        ..\n",
       "1455    RL\n",
       "1456    RL\n",
       "1457    RL\n",
       "1458    RL\n",
       "1459    RL\n",
       "Name: MSZoning, Length: 1354, dtype: object"
      ]
     },
     "execution_count": 19,
     "metadata": {},
     "output_type": "execute_result"
    }
   ],
   "source": [
    "t.MSZoning"
   ]
  },
  {
   "cell_type": "code",
   "execution_count": 20,
   "id": "193edecd",
   "metadata": {},
   "outputs": [
    {
     "data": {
      "text/plain": [
       "RL         1091\n",
       "RM          183\n",
       "FV           55\n",
       "RH           16\n",
       "C (all)       9\n",
       "Name: MSZoning, dtype: int64"
      ]
     },
     "execution_count": 20,
     "metadata": {},
     "output_type": "execute_result"
    }
   ],
   "source": [
    "t.MSZoning.value_counts()"
   ]
  },
  {
   "cell_type": "code",
   "execution_count": 21,
   "id": "ec10e451",
   "metadata": {},
   "outputs": [],
   "source": [
    "l=LabelEncoder()\n",
    "t.MSZoning=l.fit_transform(t.MSZoning)"
   ]
  },
  {
   "cell_type": "code",
   "execution_count": 22,
   "id": "63933f8a",
   "metadata": {},
   "outputs": [
    {
     "data": {
      "text/plain": [
       "Pave    1350\n",
       "Grvl       4\n",
       "Name: Street, dtype: int64"
      ]
     },
     "execution_count": 22,
     "metadata": {},
     "output_type": "execute_result"
    }
   ],
   "source": [
    "t.Street.value_counts()"
   ]
  },
  {
   "cell_type": "code",
   "execution_count": 23,
   "id": "460f783d",
   "metadata": {},
   "outputs": [],
   "source": [
    "t.drop('Street',inplace=True,axis=1)"
   ]
  },
  {
   "cell_type": "code",
   "execution_count": 24,
   "id": "d903e6fc",
   "metadata": {},
   "outputs": [],
   "source": [
    "l=per(t.LotArea)"
   ]
  },
  {
   "cell_type": "code",
   "execution_count": 25,
   "id": "9b8b7af6",
   "metadata": {},
   "outputs": [
    {
     "data": {
      "text/plain": [
       "[2255.5, 16891.5]"
      ]
     },
     "execution_count": 25,
     "metadata": {},
     "output_type": "execute_result"
    }
   ],
   "source": [
    "l"
   ]
  },
  {
   "cell_type": "code",
   "execution_count": 26,
   "id": "5dd0dd5b",
   "metadata": {},
   "outputs": [],
   "source": [
    "t=t[t.LotArea>2255.5]"
   ]
  },
  {
   "cell_type": "code",
   "execution_count": 27,
   "id": "bbbf2a78",
   "metadata": {},
   "outputs": [],
   "source": [
    "t=t[t.LotArea<16891.5]"
   ]
  },
  {
   "cell_type": "code",
   "execution_count": 28,
   "id": "1ab38662",
   "metadata": {},
   "outputs": [
    {
     "name": "stderr",
     "output_type": "stream",
     "text": [
      "C:\\Users\\boddu\\anaconda3\\lib\\site-packages\\seaborn\\_decorators.py:36: FutureWarning: Pass the following variable as a keyword arg: x. From version 0.12, the only valid positional argument will be `data`, and passing other arguments without an explicit keyword will result in an error or misinterpretation.\n",
      "  warnings.warn(\n"
     ]
    },
    {
     "data": {
      "text/plain": [
       "<AxesSubplot:xlabel='LotArea'>"
      ]
     },
     "execution_count": 28,
     "metadata": {},
     "output_type": "execute_result"
    },
    {
     "data": {
      "image/png": "[encoded data removed]",
      "text/plain": [
       "<Figure size 640x480 with 1 Axes>"
      ]
     },
     "metadata": {},
     "output_type": "display_data"
    }
   ],
   "source": [
    "boxplot(t.LotArea)"
   ]
  },
  {
   "cell_type": "code",
   "execution_count": 29,
   "id": "0ee8cd97",
   "metadata": {},
   "outputs": [],
   "source": [
    "t.LotArea=s.fit_transform(array(t.LotArea).reshape(-1,1))"
   ]
  },
  {
   "cell_type": "code",
   "execution_count": 30,
   "id": "e5261e00",
   "metadata": {},
   "outputs": [
    {
     "name": "stderr",
     "output_type": "stream",
     "text": [
      "C:\\Users\\boddu\\anaconda3\\lib\\site-packages\\seaborn\\_decorators.py:36: FutureWarning: Pass the following variables as keyword args: x, y. From version 0.12, the only valid positional argument will be `data`, and passing other arguments without an explicit keyword will result in an error or misinterpretation.\n",
      "  warnings.warn(\n"
     ]
    },
    {
     "data": {
      "text/plain": [
       "<AxesSubplot:xlabel='LotArea'>"
      ]
     },
     "execution_count": 30,
     "metadata": {},
     "output_type": "execute_result"
    },
    {
     "data": {
      "image/png": "[encoded data removed]",
      "text/plain": [
       "<Figure size 640x480 with 1 Axes>"
      ]
     },
     "metadata": {},
     "output_type": "display_data"
    }
   ],
   "source": [
    "lineplot(t.LotArea,pdf(t.LotArea),marker='>')"
   ]
  },
  {
   "cell_type": "code",
   "execution_count": 31,
   "id": "4aecfa45",
   "metadata": {},
   "outputs": [],
   "source": [
    "t['LotShape']=LabelEncoder().fit_transform(t.LotShape)"
   ]
  },
  {
   "cell_type": "code",
   "execution_count": 32,
   "id": "56114e7c",
   "metadata": {},
   "outputs": [
    {
     "data": {
      "text/plain": [
       "3    828\n",
       "0    433\n",
       "1     24\n",
       "2      3\n",
       "Name: LotShape, dtype: int64"
      ]
     },
     "execution_count": 32,
     "metadata": {},
     "output_type": "execute_result"
    }
   ],
   "source": [
    "t.LotShape.value_counts()"
   ]
  },
  {
   "cell_type": "code",
   "execution_count": 33,
   "id": "76501ef7",
   "metadata": {},
   "outputs": [
    {
     "data": {
      "text/plain": [
       "Lvl    1177\n",
       "Bnk      52\n",
       "HLS      41\n",
       "Low      18\n",
       "Name: LandContour, dtype: int64"
      ]
     },
     "execution_count": 33,
     "metadata": {},
     "output_type": "execute_result"
    }
   ],
   "source": [
    "t.LandContour.value_counts()"
   ]
  },
  {
   "cell_type": "code",
   "execution_count": 34,
   "id": "5e2e9ddf",
   "metadata": {},
   "outputs": [],
   "source": [
    "t['LandContour']=LabelEncoder().fit_transform(t.LandContour)"
   ]
  },
  {
   "cell_type": "code",
   "execution_count": 35,
   "id": "3e4fc18f",
   "metadata": {},
   "outputs": [
    {
     "data": {
      "text/plain": [
       "AllPub    1287\n",
       "NoSeWa       1\n",
       "Name: Utilities, dtype: int64"
      ]
     },
     "execution_count": 35,
     "metadata": {},
     "output_type": "execute_result"
    }
   ],
   "source": [
    "t.Utilities.value_counts()"
   ]
  },
  {
   "cell_type": "code",
   "execution_count": 36,
   "id": "7590a2fd",
   "metadata": {},
   "outputs": [],
   "source": [
    "t.drop('Utilities',axis=1,inplace=True)"
   ]
  },
  {
   "cell_type": "code",
   "execution_count": 37,
   "id": "ed472e6e",
   "metadata": {},
   "outputs": [
    {
     "data": {
      "text/plain": [
       "Inside     943\n",
       "Corner     227\n",
       "CulDSac     73\n",
       "FR2         42\n",
       "FR3          3\n",
       "Name: LotConfig, dtype: int64"
      ]
     },
     "execution_count": 37,
     "metadata": {},
     "output_type": "execute_result"
    }
   ],
   "source": [
    "t.LotConfig.value_counts()"
   ]
  },
  {
   "cell_type": "code",
   "execution_count": 38,
   "id": "5515da1b",
   "metadata": {},
   "outputs": [],
   "source": [
    "t['LotConfig']=LabelEncoder().fit_transform(t.LotConfig)"
   ]
  },
  {
   "cell_type": "code",
   "execution_count": 39,
   "id": "24d89344",
   "metadata": {},
   "outputs": [
    {
     "data": {
      "text/plain": [
       "Gtl    1236\n",
       "Mod      49\n",
       "Sev       3\n",
       "Name: LandSlope, dtype: int64"
      ]
     },
     "execution_count": 39,
     "metadata": {},
     "output_type": "execute_result"
    }
   ],
   "source": [
    "t.LandSlope.value_counts()"
   ]
  },
  {
   "cell_type": "code",
   "execution_count": 40,
   "id": "73088841",
   "metadata": {},
   "outputs": [],
   "source": [
    "t.drop('LandSlope',axis=1,inplace=True)"
   ]
  },
  {
   "cell_type": "code",
   "execution_count": 41,
   "id": "0ea772c3",
   "metadata": {},
   "outputs": [
    {
     "data": {
      "text/plain": [
       "NAmes      214\n",
       "CollgCr    144\n",
       "OldTown    108\n",
       "Edwards     89\n",
       "Somerst     71\n",
       "Sawyer      69\n",
       "NWAmes      68\n",
       "Gilbert     67\n",
       "NridgHt     66\n",
       "SawyerW     57\n",
       "BrkSide     57\n",
       "Crawfor     44\n",
       "Mitchel     40\n",
       "IDOTRR      35\n",
       "NoRidge     33\n",
       "Timber      31\n",
       "SWISU       25\n",
       "StoneBr     22\n",
       "Blmngtn     17\n",
       "ClearCr     13\n",
       "Veenker      8\n",
       "MeadowV      6\n",
       "NPkVill      4\n",
       "Name: Neighborhood, dtype: int64"
      ]
     },
     "execution_count": 41,
     "metadata": {},
     "output_type": "execute_result"
    }
   ],
   "source": [
    "t.Neighborhood.value_counts()"
   ]
  },
  {
   "cell_type": "code",
   "execution_count": 42,
   "id": "2b2bc07d",
   "metadata": {},
   "outputs": [],
   "source": [
    "t['Neighborhood']=LabelEncoder().fit_transform(t.Neighborhood)"
   ]
  },
  {
   "cell_type": "code",
   "execution_count": 43,
   "id": "d610b789",
   "metadata": {},
   "outputs": [
    {
     "data": {
      "text/plain": [
       "Norm      1115\n",
       "Feedr       72\n",
       "Artery      41\n",
       "RRAn        23\n",
       "PosN        16\n",
       "RRAe        11\n",
       "PosA         4\n",
       "RRNn         4\n",
       "RRNe         2\n",
       "Name: Condition1, dtype: int64"
      ]
     },
     "execution_count": 43,
     "metadata": {},
     "output_type": "execute_result"
    }
   ],
   "source": [
    "t.Condition1.value_counts()"
   ]
  },
  {
   "cell_type": "code",
   "execution_count": 44,
   "id": "6ac362c0",
   "metadata": {},
   "outputs": [
    {
     "data": {
      "text/plain": [
       "Norm      1276\n",
       "Feedr        6\n",
       "Artery       2\n",
       "RRNn         2\n",
       "PosA         1\n",
       "RRAn         1\n",
       "Name: Condition2, dtype: int64"
      ]
     },
     "execution_count": 44,
     "metadata": {},
     "output_type": "execute_result"
    }
   ],
   "source": [
    "t.Condition2.value_counts()"
   ]
  },
  {
   "cell_type": "code",
   "execution_count": 45,
   "id": "cfae140c",
   "metadata": {},
   "outputs": [],
   "source": [
    "t.drop(['Condition1','Condition2'],axis=1,inplace=True)"
   ]
  },
  {
   "cell_type": "code",
   "execution_count": 46,
   "id": "e42df349",
   "metadata": {},
   "outputs": [
    {
     "data": {
      "text/plain": [
       "1Fam      1105\n",
       "TwnhsE      97\n",
       "Duplex      49\n",
       "2fmCon      28\n",
       "Twnhs        9\n",
       "Name: BldgType, dtype: int64"
      ]
     },
     "execution_count": 46,
     "metadata": {},
     "output_type": "execute_result"
    }
   ],
   "source": [
    "t.BldgType.value_counts()"
   ]
  },
  {
   "cell_type": "code",
   "execution_count": 47,
   "id": "c7eef4f2",
   "metadata": {},
   "outputs": [],
   "source": [
    "t['BldgType']=LabelEncoder().fit_transform(t.BldgType)"
   ]
  },
  {
   "cell_type": "code",
   "execution_count": 48,
   "id": "5a8f49d8",
   "metadata": {},
   "outputs": [
    {
     "data": {
      "text/plain": [
       "1Story    661\n",
       "2Story    363\n",
       "1.5Fin    143\n",
       "SLvl       59\n",
       "SFoyer     31\n",
       "1.5Unf     14\n",
       "2.5Unf     11\n",
       "2.5Fin      6\n",
       "Name: HouseStyle, dtype: int64"
      ]
     },
     "execution_count": 48,
     "metadata": {},
     "output_type": "execute_result"
    }
   ],
   "source": [
    "t.HouseStyle.value_counts()"
   ]
  },
  {
   "cell_type": "code",
   "execution_count": 49,
   "id": "660b06bf",
   "metadata": {},
   "outputs": [],
   "source": [
    "t['HouseStyle']=LabelEncoder().fit_transform(t.HouseStyle)"
   ]
  },
  {
   "cell_type": "code",
   "execution_count": 50,
   "id": "8bf214c7",
   "metadata": {},
   "outputs": [
    {
     "data": {
      "text/plain": [
       "5     362\n",
       "6     323\n",
       "7     284\n",
       "8     151\n",
       "4      99\n",
       "9      34\n",
       "3      19\n",
       "10     11\n",
       "2       3\n",
       "1       2\n",
       "Name: OverallQual, dtype: int64"
      ]
     },
     "execution_count": 50,
     "metadata": {},
     "output_type": "execute_result"
    }
   ],
   "source": [
    "t.OverallQual.value_counts()"
   ]
  },
  {
   "cell_type": "code",
   "execution_count": 51,
   "id": "9db53e1f",
   "metadata": {},
   "outputs": [
    {
     "data": {
      "text/plain": [
       "5    718\n",
       "6    229\n",
       "7    184\n",
       "8     67\n",
       "4     44\n",
       "3     22\n",
       "9     18\n",
       "2      5\n",
       "1      1\n",
       "Name: OverallCond, dtype: int64"
      ]
     },
     "execution_count": 51,
     "metadata": {},
     "output_type": "execute_result"
    }
   ],
   "source": [
    "t.OverallCond.value_counts()"
   ]
  },
  {
   "cell_type": "code",
   "execution_count": 52,
   "id": "9043f9a4",
   "metadata": {},
   "outputs": [
    {
     "data": {
      "text/plain": [
       "<AxesSubplot:>"
      ]
     },
     "execution_count": 52,
     "metadata": {},
     "output_type": "execute_result"
    },
    {
     "data": {
      "image/png": "[encoded data removed]",
      "text/plain": [
       "<Figure size 640x480 with 2 Axes>"
      ]
     },
     "metadata": {},
     "output_type": "display_data"
    }
   ],
   "source": [
    "heatmap(corrcoef(t.OverallCond,t.OverallQual))"
   ]
  },
  {
   "cell_type": "code",
   "execution_count": 53,
   "id": "69608782",
   "metadata": {},
   "outputs": [],
   "source": [
    "t.drop('OverallCond',axis=1,inplace=True)"
   ]
  },
  {
   "cell_type": "code",
   "execution_count": 54,
   "id": "da9dd3c9",
   "metadata": {},
   "outputs": [],
   "source": [
    "t.YearBuilt=t.YearBuilt-min(t.YearBuilt)"
   ]
  },
  {
   "cell_type": "code",
   "execution_count": 55,
   "id": "e1f211be",
   "metadata": {},
   "outputs": [],
   "source": [
    "t.YearRemodAdd=t.YearRemodAdd-min(t.YearRemodAdd)"
   ]
  },
  {
   "cell_type": "code",
   "execution_count": 56,
   "id": "f2fe6d64",
   "metadata": {},
   "outputs": [
    {
     "data": {
      "text/plain": [
       "array([[1.        , 0.60037118],\n",
       "       [0.60037118, 1.        ]])"
      ]
     },
     "execution_count": 56,
     "metadata": {},
     "output_type": "execute_result"
    }
   ],
   "source": [
    "corrcoef(t.YearRemodAdd,t.YearBuilt)"
   ]
  },
  {
   "cell_type": "code",
   "execution_count": 57,
   "id": "e453c7e6",
   "metadata": {},
   "outputs": [
    {
     "data": {
      "text/plain": [
       "Gable      1015\n",
       "Hip         250\n",
       "Gambrel      11\n",
       "Mansard       7\n",
       "Flat          5\n",
       "Name: RoofStyle, dtype: int64"
      ]
     },
     "execution_count": 57,
     "metadata": {},
     "output_type": "execute_result"
    }
   ],
   "source": [
    "t.RoofStyle.value_counts()"
   ]
  },
  {
   "cell_type": "code",
   "execution_count": 58,
   "id": "fe5bdead",
   "metadata": {},
   "outputs": [],
   "source": [
    "t['RoofStyle']=LabelEncoder().fit_transform(t.RoofStyle)"
   ]
  },
  {
   "cell_type": "code",
   "execution_count": 59,
   "id": "c8088d03",
   "metadata": {},
   "outputs": [
    {
     "data": {
      "text/plain": [
       "CompShg    1276\n",
       "Tar&Grv       5\n",
       "WdShake       4\n",
       "WdShngl       2\n",
       "Roll          1\n",
       "Name: RoofMatl, dtype: int64"
      ]
     },
     "execution_count": 59,
     "metadata": {},
     "output_type": "execute_result"
    }
   ],
   "source": [
    "t.RoofMatl.value_counts()"
   ]
  },
  {
   "cell_type": "code",
   "execution_count": 60,
   "id": "a98c994e",
   "metadata": {},
   "outputs": [],
   "source": [
    "t.drop('RoofMatl',axis=1,inplace=True)"
   ]
  },
  {
   "cell_type": "code",
   "execution_count": 61,
   "id": "b40e2b22",
   "metadata": {},
   "outputs": [
    {
     "data": {
      "text/plain": [
       "(15,)"
      ]
     },
     "execution_count": 61,
     "metadata": {},
     "output_type": "execute_result"
    }
   ],
   "source": [
    "t.Exterior1st.value_counts().shape"
   ]
  },
  {
   "cell_type": "code",
   "execution_count": 62,
   "id": "81a5a7af",
   "metadata": {},
   "outputs": [
    {
     "data": {
      "text/plain": [
       "(16,)"
      ]
     },
     "execution_count": 62,
     "metadata": {},
     "output_type": "execute_result"
    }
   ],
   "source": [
    "t.Exterior2nd.value_counts().shape"
   ]
  },
  {
   "cell_type": "code",
   "execution_count": 63,
   "id": "d67e4e64",
   "metadata": {},
   "outputs": [],
   "source": [
    "t.drop('Exterior1st',axis=1,inplace=True)"
   ]
  },
  {
   "cell_type": "code",
   "execution_count": 64,
   "id": "b9f2e67f",
   "metadata": {},
   "outputs": [],
   "source": [
    "t.Exterior2nd=LabelEncoder().fit_transform(t.Exterior2nd)"
   ]
  },
  {
   "cell_type": "code",
   "execution_count": 65,
   "id": "2ec79c37",
   "metadata": {},
   "outputs": [
    {
     "data": {
      "text/plain": [
       "None       769\n",
       "BrkFace    388\n",
       "Stone      112\n",
       "BrkCmn      12\n",
       "Name: MasVnrType, dtype: int64"
      ]
     },
     "execution_count": 65,
     "metadata": {},
     "output_type": "execute_result"
    }
   ],
   "source": [
    "t.MasVnrType.value_counts()"
   ]
  },
  {
   "cell_type": "code",
   "execution_count": 66,
   "id": "ece36ed5",
   "metadata": {},
   "outputs": [
    {
     "data": {
      "text/plain": [
       "0.0      768\n",
       "180.0      8\n",
       "108.0      8\n",
       "72.0       8\n",
       "200.0      6\n",
       "        ... \n",
       "209.0      1\n",
       "472.0      1\n",
       "263.0      1\n",
       "436.0      1\n",
       "119.0      1\n",
       "Name: MasVnrArea, Length: 294, dtype: int64"
      ]
     },
     "execution_count": 66,
     "metadata": {},
     "output_type": "execute_result"
    }
   ],
   "source": [
    "t.MasVnrArea.value_counts()"
   ]
  },
  {
   "cell_type": "code",
   "execution_count": 67,
   "id": "a9010ce0",
   "metadata": {},
   "outputs": [],
   "source": [
    "t.drop('MasVnrArea',axis=1,inplace=True)"
   ]
  },
  {
   "cell_type": "code",
   "execution_count": 68,
   "id": "34f7bbe2",
   "metadata": {},
   "outputs": [],
   "source": [
    "t.MasVnrType=LabelEncoder().fit_transform(t.MasVnrType)"
   ]
  },
  {
   "cell_type": "code",
   "execution_count": 69,
   "id": "91564fdc",
   "metadata": {},
   "outputs": [
    {
     "data": {
      "text/plain": [
       "TA    805\n",
       "Gd    426\n",
       "Ex     45\n",
       "Fa     12\n",
       "Name: ExterQual, dtype: int64"
      ]
     },
     "execution_count": 69,
     "metadata": {},
     "output_type": "execute_result"
    }
   ],
   "source": [
    "t.ExterQual.value_counts()"
   ]
  },
  {
   "cell_type": "code",
   "execution_count": 70,
   "id": "fc9493aa",
   "metadata": {},
   "outputs": [
    {
     "data": {
      "text/plain": [
       "TA    1133\n",
       "Gd     124\n",
       "Fa      27\n",
       "Ex       3\n",
       "Po       1\n",
       "Name: ExterCond, dtype: int64"
      ]
     },
     "execution_count": 70,
     "metadata": {},
     "output_type": "execute_result"
    }
   ],
   "source": [
    "t.ExterCond.value_counts()"
   ]
  },
  {
   "cell_type": "code",
   "execution_count": 71,
   "id": "c8565796",
   "metadata": {},
   "outputs": [],
   "source": [
    "t.drop('ExterQual',axis=1,inplace=True)"
   ]
  },
  {
   "cell_type": "code",
   "execution_count": 72,
   "id": "92d28e78",
   "metadata": {},
   "outputs": [],
   "source": [
    "t.ExterCond=LabelEncoder().fit_transform(t.ExterCond)"
   ]
  },
  {
   "cell_type": "code",
   "execution_count": 73,
   "id": "6155a2e5",
   "metadata": {},
   "outputs": [
    {
     "data": {
      "text/plain": [
       "PConc     579\n",
       "CBlock    541\n",
       "BrkTil    137\n",
       "Slab       23\n",
       "Stone       6\n",
       "Wood        2\n",
       "Name: Foundation, dtype: int64"
      ]
     },
     "execution_count": 73,
     "metadata": {},
     "output_type": "execute_result"
    }
   ],
   "source": [
    "t.Foundation.value_counts()"
   ]
  },
  {
   "cell_type": "code",
   "execution_count": 74,
   "id": "89bd4c10",
   "metadata": {},
   "outputs": [],
   "source": [
    "t.Foundation=LabelEncoder().fit_transform(t.Foundation)"
   ]
  },
  {
   "cell_type": "code",
   "execution_count": 75,
   "id": "0583385a",
   "metadata": {},
   "outputs": [
    {
     "data": {
      "text/plain": [
       "TA    581\n",
       "Gd    539\n",
       "Ex    100\n",
       "Fa     33\n",
       "Name: BsmtQual, dtype: int64"
      ]
     },
     "execution_count": 75,
     "metadata": {},
     "output_type": "execute_result"
    }
   ],
   "source": [
    "t.BsmtQual.value_counts()"
   ]
  },
  {
   "cell_type": "code",
   "execution_count": 76,
   "id": "d0f0100f",
   "metadata": {},
   "outputs": [
    {
     "data": {
      "text/plain": [
       "TA    1154\n",
       "Gd      56\n",
       "Fa      41\n",
       "Po       2\n",
       "Name: BsmtCond, dtype: int64"
      ]
     },
     "execution_count": 76,
     "metadata": {},
     "output_type": "execute_result"
    }
   ],
   "source": [
    "t.BsmtCond.value_counts()"
   ]
  },
  {
   "cell_type": "code",
   "execution_count": 77,
   "id": "ae9488b5",
   "metadata": {},
   "outputs": [],
   "source": [
    "t.BsmtQual=LabelEncoder().fit_transform(t.BsmtQual)\n",
    "t.BsmtCond=LabelEncoder().fit_transform(t.BsmtCond)"
   ]
  },
  {
   "cell_type": "code",
   "execution_count": 78,
   "id": "19618c08",
   "metadata": {},
   "outputs": [],
   "source": [
    "t=t[t.BsmtCond!=2]"
   ]
  },
  {
   "cell_type": "code",
   "execution_count": 79,
   "id": "ad57fabe",
   "metadata": {},
   "outputs": [
    {
     "data": {
      "text/plain": [
       "array([[1.        , 0.07364635],\n",
       "       [0.07364635, 1.        ]])"
      ]
     },
     "execution_count": 79,
     "metadata": {},
     "output_type": "execute_result"
    }
   ],
   "source": [
    "corrcoef(t.BsmtCond,t.BsmtQual)"
   ]
  },
  {
   "cell_type": "code",
   "execution_count": 80,
   "id": "52231867",
   "metadata": {},
   "outputs": [
    {
     "data": {
      "text/plain": [
       "No    857\n",
       "Av    189\n",
       "Gd    102\n",
       "Mn    102\n",
       "Name: BsmtExposure, dtype: int64"
      ]
     },
     "execution_count": 80,
     "metadata": {},
     "output_type": "execute_result"
    }
   ],
   "source": [
    "t.BsmtExposure.value_counts()"
   ]
  },
  {
   "cell_type": "code",
   "execution_count": 81,
   "id": "d6f4681a",
   "metadata": {},
   "outputs": [],
   "source": [
    "t.BsmtExposure=LabelEncoder().fit_transform(t.BsmtExposure)"
   ]
  },
  {
   "cell_type": "code",
   "execution_count": 82,
   "id": "10c2b466",
   "metadata": {},
   "outputs": [],
   "source": [
    "t.drop(['BsmtFinType2','BsmtFinSF2'],axis=1,inplace=True)"
   ]
  },
  {
   "cell_type": "code",
   "execution_count": 83,
   "id": "dcf6474a",
   "metadata": {},
   "outputs": [
    {
     "data": {
      "text/plain": [
       "Unf    379\n",
       "GLQ    370\n",
       "ALQ    191\n",
       "BLQ    126\n",
       "Rec    121\n",
       "LwQ     64\n",
       "Name: BsmtFinType1, dtype: int64"
      ]
     },
     "execution_count": 83,
     "metadata": {},
     "output_type": "execute_result"
    }
   ],
   "source": [
    "t.BsmtFinType1.value_counts()"
   ]
  },
  {
   "cell_type": "code",
   "execution_count": 84,
   "id": "332d4bd6",
   "metadata": {},
   "outputs": [],
   "source": [
    "t.BsmtFinType1.fillna('Unf',inplace=True)"
   ]
  },
  {
   "cell_type": "code",
   "execution_count": 85,
   "id": "6bcc9b64",
   "metadata": {},
   "outputs": [],
   "source": [
    "t.BsmtFinType1=LabelEncoder().fit_transform(t.BsmtFinType1)"
   ]
  },
  {
   "cell_type": "code",
   "execution_count": 86,
   "id": "e5ecac4d",
   "metadata": {},
   "outputs": [
    {
     "data": {
      "text/plain": [
       "GasA     1257\n",
       "GasW       16\n",
       "Grav        6\n",
       "Wall        4\n",
       "OthW        2\n",
       "Floor       1\n",
       "Name: Heating, dtype: int64"
      ]
     },
     "execution_count": 86,
     "metadata": {},
     "output_type": "execute_result"
    }
   ],
   "source": [
    "t.Heating.value_counts()"
   ]
  },
  {
   "cell_type": "code",
   "execution_count": 87,
   "id": "f6eb102c",
   "metadata": {},
   "outputs": [],
   "source": [
    "t.drop(['Heating'],axis=1,inplace=True)"
   ]
  },
  {
   "cell_type": "code",
   "execution_count": 88,
   "id": "1113acf4",
   "metadata": {},
   "outputs": [
    {
     "data": {
      "text/plain": [
       "Ex    655\n",
       "TA    370\n",
       "Gd    218\n",
       "Fa     42\n",
       "Po      1\n",
       "Name: HeatingQC, dtype: int64"
      ]
     },
     "execution_count": 88,
     "metadata": {},
     "output_type": "execute_result"
    }
   ],
   "source": [
    "t.HeatingQC.value_counts()"
   ]
  },
  {
   "cell_type": "code",
   "execution_count": 89,
   "id": "e705e7e8",
   "metadata": {},
   "outputs": [],
   "source": [
    "t=t[t.HeatingQC!='Po']"
   ]
  },
  {
   "cell_type": "code",
   "execution_count": 90,
   "id": "3ebbd151",
   "metadata": {},
   "outputs": [],
   "source": [
    "t.HeatingQC=LabelEncoder().fit_transform(t.HeatingQC)"
   ]
  },
  {
   "cell_type": "code",
   "execution_count": 91,
   "id": "33f80890",
   "metadata": {},
   "outputs": [
    {
     "data": {
      "text/plain": [
       "Y    1197\n",
       "N      88\n",
       "Name: CentralAir, dtype: int64"
      ]
     },
     "execution_count": 91,
     "metadata": {},
     "output_type": "execute_result"
    }
   ],
   "source": [
    "t.CentralAir.value_counts()"
   ]
  },
  {
   "cell_type": "code",
   "execution_count": 92,
   "id": "e27bc9a4",
   "metadata": {},
   "outputs": [],
   "source": [
    "t.CentralAir=LabelEncoder().fit_transform(t.CentralAir)"
   ]
  },
  {
   "cell_type": "code",
   "execution_count": 93,
   "id": "417c138d",
   "metadata": {},
   "outputs": [],
   "source": [
    "t.dropna(inplace=True)"
   ]
  },
  {
   "cell_type": "code",
   "execution_count": 94,
   "id": "c8a08514",
   "metadata": {},
   "outputs": [
    {
     "data": {
      "text/plain": [
       "SBrkr    1114\n",
       "FuseA      77\n",
       "FuseF      21\n",
       "FuseP       1\n",
       "Name: Electrical, dtype: int64"
      ]
     },
     "execution_count": 94,
     "metadata": {},
     "output_type": "execute_result"
    }
   ],
   "source": [
    "t.Electrical.value_counts()"
   ]
  },
  {
   "cell_type": "code",
   "execution_count": 95,
   "id": "245ab727",
   "metadata": {},
   "outputs": [],
   "source": [
    "t=t[t.Electrical!='FuseP']"
   ]
  },
  {
   "cell_type": "code",
   "execution_count": 96,
   "id": "0a2d440f",
   "metadata": {},
   "outputs": [],
   "source": [
    "t.Electrical=LabelEncoder().fit_transform(t.Electrical)"
   ]
  },
  {
   "cell_type": "code",
   "execution_count": 97,
   "id": "5e65d380",
   "metadata": {},
   "outputs": [
    {
     "data": {
      "text/plain": [
       "0        856\n",
       "1       1262\n",
       "2        920\n",
       "3        961\n",
       "4       1145\n",
       "        ... \n",
       "1455     953\n",
       "1456    2073\n",
       "1457    1188\n",
       "1458    1078\n",
       "1459    1256\n",
       "Name: 1stFlrSF, Length: 1212, dtype: int64"
      ]
     },
     "execution_count": 97,
     "metadata": {},
     "output_type": "execute_result"
    }
   ],
   "source": [
    "t['1stFlrSF']"
   ]
  },
  {
   "cell_type": "code",
   "execution_count": 98,
   "id": "93a22faa",
   "metadata": {},
   "outputs": [
    {
     "data": {
      "text/plain": [
       "[188.5, 2090.5]"
      ]
     },
     "execution_count": 98,
     "metadata": {},
     "output_type": "execute_result"
    }
   ],
   "source": [
    "l=per(t['1stFlrSF'])\n",
    "l"
   ]
  },
  {
   "cell_type": "code",
   "execution_count": 99,
   "id": "4f85400c",
   "metadata": {},
   "outputs": [],
   "source": [
    "t=t[t['1stFlrSF']>188.5]\n",
    "t=t[t['1stFlrSF']<2090.5]"
   ]
  },
  {
   "cell_type": "code",
   "execution_count": 100,
   "id": "e5537f5b",
   "metadata": {},
   "outputs": [],
   "source": [
    "t['1stFlrSF']=s.fit_transform(array(t['1stFlrSF']).reshape(-1,1))"
   ]
  },
  {
   "cell_type": "code",
   "execution_count": 101,
   "id": "72a7bde1",
   "metadata": {},
   "outputs": [
    {
     "name": "stderr",
     "output_type": "stream",
     "text": [
      "C:\\Users\\boddu\\anaconda3\\lib\\site-packages\\seaborn\\_decorators.py:36: FutureWarning: Pass the following variable as a keyword arg: x. From version 0.12, the only valid positional argument will be `data`, and passing other arguments without an explicit keyword will result in an error or misinterpretation.\n",
      "  warnings.warn(\n"
     ]
    },
    {
     "data": {
      "text/plain": [
       "<AxesSubplot:xlabel='1stFlrSF'>"
      ]
     },
     "execution_count": 101,
     "metadata": {},
     "output_type": "execute_result"
    },
    {
     "data": {
      "image/png": "[encoded data removed]",
      "text/plain": [
       "<Figure size 640x480 with 1 Axes>"
      ]
     },
     "metadata": {},
     "output_type": "display_data"
    }
   ],
   "source": [
    "boxplot(t['1stFlrSF'])"
   ]
  },
  {
   "cell_type": "code",
   "execution_count": 102,
   "id": "18881957",
   "metadata": {},
   "outputs": [
    {
     "name": "stderr",
     "output_type": "stream",
     "text": [
      "C:\\Users\\boddu\\anaconda3\\lib\\site-packages\\seaborn\\_decorators.py:36: FutureWarning: Pass the following variables as keyword args: x, y. From version 0.12, the only valid positional argument will be `data`, and passing other arguments without an explicit keyword will result in an error or misinterpretation.\n",
      "  warnings.warn(\n"
     ]
    },
    {
     "data": {
      "text/plain": [
       "<AxesSubplot:xlabel='1stFlrSF'>"
      ]
     },
     "execution_count": 102,
     "metadata": {},
     "output_type": "execute_result"
    },
    {
     "data": {
      "image/png": "[encoded data removed]",
      "text/plain": [
       "<Figure size 640x480 with 1 Axes>"
      ]
     },
     "metadata": {},
     "output_type": "display_data"
    }
   ],
   "source": [
    "lineplot(t['1stFlrSF'],pdf(t['1stFlrSF']),marker='>')"
   ]
  },
  {
   "cell_type": "code",
   "execution_count": 103,
   "id": "446eedc2",
   "metadata": {},
   "outputs": [
    {
     "data": {
      "text/plain": [
       "0       691\n",
       "728      10\n",
       "689       5\n",
       "720       5\n",
       "862       5\n",
       "       ... \n",
       "600       1\n",
       "745       1\n",
       "812       1\n",
       "595       1\n",
       "1152      1\n",
       "Name: 2ndFlrSF, Length: 360, dtype: int64"
      ]
     },
     "execution_count": 103,
     "metadata": {},
     "output_type": "execute_result"
    }
   ],
   "source": [
    "t['2ndFlrSF'].value_counts()"
   ]
  },
  {
   "cell_type": "code",
   "execution_count": 104,
   "id": "d1348deb",
   "metadata": {},
   "outputs": [],
   "source": [
    "t.drop(['2ndFlrSF'],axis=1,inplace=True)"
   ]
  },
  {
   "cell_type": "code",
   "execution_count": 105,
   "id": "e239605b",
   "metadata": {},
   "outputs": [
    {
     "data": {
      "text/plain": [
       "0      1181\n",
       "360       2\n",
       "528       1\n",
       "144       1\n",
       "390       1\n",
       "420       1\n",
       "473       1\n",
       "156       1\n",
       "53        1\n",
       "232       1\n",
       "481       1\n",
       "120       1\n",
       "397       1\n",
       "384       1\n",
       "Name: LowQualFinSF, dtype: int64"
      ]
     },
     "execution_count": 105,
     "metadata": {},
     "output_type": "execute_result"
    }
   ],
   "source": [
    "t.LowQualFinSF.value_counts()"
   ]
  },
  {
   "cell_type": "code",
   "execution_count": 106,
   "id": "6d435ce0",
   "metadata": {},
   "outputs": [],
   "source": [
    "t.drop(['LowQualFinSF'],axis=1,inplace=True)"
   ]
  },
  {
   "cell_type": "code",
   "execution_count": 107,
   "id": "9aece4a1",
   "metadata": {},
   "outputs": [
    {
     "data": {
      "text/plain": [
       "0       1710\n",
       "1       1262\n",
       "2       1786\n",
       "3       1717\n",
       "4       2198\n",
       "        ... \n",
       "1455    1647\n",
       "1456    2073\n",
       "1457    2340\n",
       "1458    1078\n",
       "1459    1256\n",
       "Name: GrLivArea, Length: 1195, dtype: int64"
      ]
     },
     "execution_count": 107,
     "metadata": {},
     "output_type": "execute_result"
    }
   ],
   "source": [
    "t.GrLivArea"
   ]
  },
  {
   "cell_type": "code",
   "execution_count": 108,
   "id": "007651ec",
   "metadata": {},
   "outputs": [
    {
     "data": {
      "text/plain": [
       "[216.25, 2670.25]"
      ]
     },
     "execution_count": 108,
     "metadata": {},
     "output_type": "execute_result"
    }
   ],
   "source": [
    "l=per(t.GrLivArea)\n",
    "l"
   ]
  },
  {
   "cell_type": "code",
   "execution_count": 109,
   "id": "3291b6e9",
   "metadata": {},
   "outputs": [],
   "source": [
    "t=t[t.GrLivArea>216.25]\n",
    "t=t[t.GrLivArea<2670.25]"
   ]
  },
  {
   "cell_type": "code",
   "execution_count": 110,
   "id": "020f86dc",
   "metadata": {},
   "outputs": [],
   "source": [
    "t.GrLivArea=s.fit_transform(array(t.GrLivArea).reshape(-1,1))"
   ]
  },
  {
   "cell_type": "code",
   "execution_count": 111,
   "id": "0bd47425",
   "metadata": {},
   "outputs": [
    {
     "name": "stderr",
     "output_type": "stream",
     "text": [
      "C:\\Users\\boddu\\anaconda3\\lib\\site-packages\\seaborn\\_decorators.py:36: FutureWarning: Pass the following variable as a keyword arg: x. From version 0.12, the only valid positional argument will be `data`, and passing other arguments without an explicit keyword will result in an error or misinterpretation.\n",
      "  warnings.warn(\n"
     ]
    },
    {
     "data": {
      "text/plain": [
       "<AxesSubplot:xlabel='GrLivArea'>"
      ]
     },
     "execution_count": 111,
     "metadata": {},
     "output_type": "execute_result"
    },
    {
     "data": {
      "image/png": "[encoded data removed]",
      "text/plain": [
       "<Figure size 640x480 with 1 Axes>"
      ]
     },
     "metadata": {},
     "output_type": "display_data"
    }
   ],
   "source": [
    "boxplot(t.GrLivArea)"
   ]
  },
  {
   "cell_type": "code",
   "execution_count": 112,
   "id": "57acf188",
   "metadata": {},
   "outputs": [
    {
     "name": "stderr",
     "output_type": "stream",
     "text": [
      "C:\\Users\\boddu\\anaconda3\\lib\\site-packages\\seaborn\\_decorators.py:36: FutureWarning: Pass the following variables as keyword args: x, y. From version 0.12, the only valid positional argument will be `data`, and passing other arguments without an explicit keyword will result in an error or misinterpretation.\n",
      "  warnings.warn(\n"
     ]
    },
    {
     "data": {
      "text/plain": [
       "<AxesSubplot:xlabel='GrLivArea'>"
      ]
     },
     "execution_count": 112,
     "metadata": {},
     "output_type": "execute_result"
    },
    {
     "data": {
      "image/png": "[encoded data removed]",
      "text/plain": [
       "<Figure size 640x480 with 1 Axes>"
      ]
     },
     "metadata": {},
     "output_type": "display_data"
    }
   ],
   "source": [
    "lineplot(t['GrLivArea'],pdf(t['GrLivArea']),marker='>')"
   ]
  },
  {
   "cell_type": "code",
   "execution_count": 113,
   "id": "699d209b",
   "metadata": {},
   "outputs": [
    {
     "data": {
      "text/plain": [
       "0    687\n",
       "1    480\n",
       "2      6\n",
       "Name: BsmtFullBath, dtype: int64"
      ]
     },
     "execution_count": 113,
     "metadata": {},
     "output_type": "execute_result"
    }
   ],
   "source": [
    "t.BsmtFullBath.value_counts()"
   ]
  },
  {
   "cell_type": "code",
   "execution_count": 114,
   "id": "8f640deb",
   "metadata": {},
   "outputs": [],
   "source": [
    "t=t[t.BsmtFullBath!=2]"
   ]
  },
  {
   "cell_type": "code",
   "execution_count": 115,
   "id": "e23c92c2",
   "metadata": {},
   "outputs": [
    {
     "data": {
      "text/plain": [
       "0    1098\n",
       "1      68\n",
       "2       1\n",
       "Name: BsmtHalfBath, dtype: int64"
      ]
     },
     "execution_count": 115,
     "metadata": {},
     "output_type": "execute_result"
    }
   ],
   "source": [
    "t.BsmtHalfBath.value_counts()"
   ]
  },
  {
   "cell_type": "code",
   "execution_count": 116,
   "id": "5378f41d",
   "metadata": {},
   "outputs": [],
   "source": [
    "t=t[t.BsmtHalfBath!=2]"
   ]
  },
  {
   "cell_type": "code",
   "execution_count": 117,
   "id": "b42608d7",
   "metadata": {},
   "outputs": [
    {
     "data": {
      "text/plain": [
       "2    618\n",
       "1    536\n",
       "3     10\n",
       "0      2\n",
       "Name: FullBath, dtype: int64"
      ]
     },
     "execution_count": 117,
     "metadata": {},
     "output_type": "execute_result"
    }
   ],
   "source": [
    "t.FullBath.value_counts()"
   ]
  },
  {
   "cell_type": "code",
   "execution_count": 118,
   "id": "a5dd8640",
   "metadata": {},
   "outputs": [],
   "source": [
    "t=t[t.FullBath!=3]\n",
    "t=t[t.FullBath!=0]"
   ]
  },
  {
   "cell_type": "code",
   "execution_count": 119,
   "id": "663f5a22",
   "metadata": {},
   "outputs": [
    {
     "data": {
      "text/plain": [
       "0    741\n",
       "1    408\n",
       "2      5\n",
       "Name: HalfBath, dtype: int64"
      ]
     },
     "execution_count": 119,
     "metadata": {},
     "output_type": "execute_result"
    }
   ],
   "source": [
    "t.HalfBath.value_counts()"
   ]
  },
  {
   "cell_type": "code",
   "execution_count": 120,
   "id": "6cf4c517",
   "metadata": {},
   "outputs": [],
   "source": [
    "t=t[t.HalfBath!=2]"
   ]
  },
  {
   "cell_type": "code",
   "execution_count": 121,
   "id": "b9f098a7",
   "metadata": {},
   "outputs": [
    {
     "data": {
      "text/plain": [
       "3    677\n",
       "2    286\n",
       "4    137\n",
       "1     34\n",
       "5     10\n",
       "6      4\n",
       "0      1\n",
       "Name: BedroomAbvGr, dtype: int64"
      ]
     },
     "execution_count": 121,
     "metadata": {},
     "output_type": "execute_result"
    }
   ],
   "source": [
    "t.BedroomAbvGr.value_counts()"
   ]
  },
  {
   "cell_type": "code",
   "execution_count": 122,
   "id": "b658f742",
   "metadata": {},
   "outputs": [],
   "source": [
    "t=t[t.BedroomAbvGr!=0]\n",
    "t=t[t.BedroomAbvGr!=6]"
   ]
  },
  {
   "cell_type": "code",
   "execution_count": 123,
   "id": "ba14a854",
   "metadata": {},
   "outputs": [
    {
     "data": {
      "text/plain": [
       "1    1107\n",
       "2      36\n",
       "3       1\n",
       "Name: KitchenAbvGr, dtype: int64"
      ]
     },
     "execution_count": 123,
     "metadata": {},
     "output_type": "execute_result"
    }
   ],
   "source": [
    "t.KitchenAbvGr.value_counts()"
   ]
  },
  {
   "cell_type": "code",
   "execution_count": 124,
   "id": "fee71fa0",
   "metadata": {},
   "outputs": [],
   "source": [
    "t=t[t.KitchenAbvGr!=2]\n",
    "t=t[t.KitchenAbvGr!=3]\n",
    "t.drop(['KitchenAbvGr'],axis=1,inplace=True)"
   ]
  },
  {
   "cell_type": "code",
   "execution_count": 125,
   "id": "5b68e7df",
   "metadata": {},
   "outputs": [
    {
     "data": {
      "text/plain": [
       "TA    537\n",
       "Gd    485\n",
       "Ex     64\n",
       "Fa     21\n",
       "Name: KitchenQual, dtype: int64"
      ]
     },
     "execution_count": 125,
     "metadata": {},
     "output_type": "execute_result"
    }
   ],
   "source": [
    "t.KitchenQual.value_counts()"
   ]
  },
  {
   "cell_type": "code",
   "execution_count": 126,
   "id": "fa305b33",
   "metadata": {},
   "outputs": [],
   "source": [
    "t.KitchenQual=LabelEncoder().fit_transform(t.KitchenQual)"
   ]
  },
  {
   "cell_type": "code",
   "execution_count": 127,
   "id": "694b45e4",
   "metadata": {},
   "outputs": [
    {
     "data": {
      "text/plain": [
       "6     344\n",
       "7     264\n",
       "5     223\n",
       "8     132\n",
       "4      69\n",
       "9      43\n",
       "10     20\n",
       "3       9\n",
       "11      3\n",
       "Name: TotRmsAbvGrd, dtype: int64"
      ]
     },
     "execution_count": 127,
     "metadata": {},
     "output_type": "execute_result"
    }
   ],
   "source": [
    "t.TotRmsAbvGrd.value_counts()"
   ]
  },
  {
   "cell_type": "code",
   "execution_count": 128,
   "id": "5f496222",
   "metadata": {},
   "outputs": [],
   "source": [
    "t=t[t.TotRmsAbvGrd!=11]\n",
    "t=t[t.TotRmsAbvGrd!=3]"
   ]
  },
  {
   "cell_type": "code",
   "execution_count": 129,
   "id": "525650e9",
   "metadata": {},
   "outputs": [
    {
     "data": {
      "text/plain": [
       "Typ     1033\n",
       "Min2      25\n",
       "Min1      23\n",
       "Mod        6\n",
       "Maj1       6\n",
       "Maj2       2\n",
       "Name: Functional, dtype: int64"
      ]
     },
     "execution_count": 129,
     "metadata": {},
     "output_type": "execute_result"
    }
   ],
   "source": [
    "t.Functional.value_counts()"
   ]
  },
  {
   "cell_type": "code",
   "execution_count": 130,
   "id": "2b243bb8",
   "metadata": {},
   "outputs": [],
   "source": [
    "t.Functional=LabelEncoder().fit_transform(t.Functional)"
   ]
  },
  {
   "cell_type": "code",
   "execution_count": 131,
   "id": "336cdf74",
   "metadata": {},
   "outputs": [
    {
     "data": {
      "text/plain": [
       "1    522\n",
       "0    511\n",
       "2     59\n",
       "3      3\n",
       "Name: Fireplaces, dtype: int64"
      ]
     },
     "execution_count": 131,
     "metadata": {},
     "output_type": "execute_result"
    }
   ],
   "source": [
    "t.Fireplaces.value_counts()"
   ]
  },
  {
   "cell_type": "code",
   "execution_count": 132,
   "id": "f7ebb99c",
   "metadata": {},
   "outputs": [],
   "source": [
    "t=t[t.Fireplaces!=3]"
   ]
  },
  {
   "cell_type": "code",
   "execution_count": 133,
   "id": "e394a80f",
   "metadata": {},
   "outputs": [
    {
     "data": {
      "text/plain": [
       "Attchd     710\n",
       "Detchd     307\n",
       "BuiltIn     58\n",
       "Basment     13\n",
       "CarPort      3\n",
       "2Types       1\n",
       "Name: GarageType, dtype: int64"
      ]
     },
     "execution_count": 133,
     "metadata": {},
     "output_type": "execute_result"
    }
   ],
   "source": [
    "t.GarageType.value_counts()"
   ]
  },
  {
   "cell_type": "code",
   "execution_count": 134,
   "id": "cd03698b",
   "metadata": {},
   "outputs": [],
   "source": [
    "t=t[t.GarageType!='2Types']\n",
    "t=t[t.GarageType!='CarPort']"
   ]
  },
  {
   "cell_type": "code",
   "execution_count": 135,
   "id": "f973e593",
   "metadata": {},
   "outputs": [],
   "source": [
    "t.GarageType=LabelEncoder().fit_transform(t.GarageType)"
   ]
  },
  {
   "cell_type": "code",
   "execution_count": 136,
   "id": "45ea8923",
   "metadata": {},
   "outputs": [],
   "source": [
    "t.GarageYrBlt=t.GarageYrBlt-min(t.GarageYrBlt)"
   ]
  },
  {
   "cell_type": "code",
   "execution_count": 137,
   "id": "4b7f2d60",
   "metadata": {},
   "outputs": [],
   "source": [
    "t.GarageYrBlt=s.fit_transform(array(t.GarageYrBlt).reshape(-1,1))"
   ]
  },
  {
   "cell_type": "code",
   "execution_count": 138,
   "id": "e3cbcf7f",
   "metadata": {},
   "outputs": [
    {
     "data": {
      "text/plain": [
       "Unf    465\n",
       "RFn    361\n",
       "Fin    262\n",
       "Name: GarageFinish, dtype: int64"
      ]
     },
     "execution_count": 138,
     "metadata": {},
     "output_type": "execute_result"
    }
   ],
   "source": [
    "t.GarageFinish.value_counts()"
   ]
  },
  {
   "cell_type": "code",
   "execution_count": 139,
   "id": "05dee417",
   "metadata": {},
   "outputs": [],
   "source": [
    "t.GarageFinish=LabelEncoder().fit_transform(t.GarageFinish)"
   ]
  },
  {
   "cell_type": "code",
   "execution_count": 140,
   "id": "e2b5f7af",
   "metadata": {},
   "outputs": [
    {
     "data": {
      "text/plain": [
       "2    638\n",
       "1    324\n",
       "3    124\n",
       "4      2\n",
       "Name: GarageCars, dtype: int64"
      ]
     },
     "execution_count": 140,
     "metadata": {},
     "output_type": "execute_result"
    }
   ],
   "source": [
    "t.GarageCars.value_counts()"
   ]
  },
  {
   "cell_type": "code",
   "execution_count": 141,
   "id": "451321f9",
   "metadata": {},
   "outputs": [],
   "source": [
    "t=t[t.GarageCars!=4]"
   ]
  },
  {
   "cell_type": "code",
   "execution_count": 142,
   "id": "e676439a",
   "metadata": {},
   "outputs": [
    {
     "data": {
      "text/plain": [
       "0       548\n",
       "1       460\n",
       "2       608\n",
       "3       642\n",
       "4       836\n",
       "       ... \n",
       "1455    460\n",
       "1456    500\n",
       "1457    252\n",
       "1458    240\n",
       "1459    276\n",
       "Name: GarageArea, Length: 1086, dtype: int64"
      ]
     },
     "execution_count": 142,
     "metadata": {},
     "output_type": "execute_result"
    }
   ],
   "source": [
    "t.GarageArea"
   ]
  },
  {
   "cell_type": "code",
   "execution_count": 143,
   "id": "989ed07a",
   "metadata": {},
   "outputs": [
    {
     "data": {
      "text/plain": [
       "[16.0, 912.0]"
      ]
     },
     "execution_count": 143,
     "metadata": {},
     "output_type": "execute_result"
    }
   ],
   "source": [
    "l=per(t.GarageArea)\n",
    "l"
   ]
  },
  {
   "cell_type": "code",
   "execution_count": 144,
   "id": "e3b0ef0b",
   "metadata": {},
   "outputs": [],
   "source": [
    "t=t[t.GarageArea>16]\n",
    "t=t[t.GarageArea<912]"
   ]
  },
  {
   "cell_type": "code",
   "execution_count": 145,
   "id": "d694340a",
   "metadata": {},
   "outputs": [],
   "source": [
    "t.GarageArea=s.fit_transform(array(t.GarageArea).reshape(-1,1))"
   ]
  },
  {
   "cell_type": "code",
   "execution_count": 146,
   "id": "2979d6a9",
   "metadata": {},
   "outputs": [
    {
     "name": "stderr",
     "output_type": "stream",
     "text": [
      "C:\\Users\\boddu\\anaconda3\\lib\\site-packages\\seaborn\\_decorators.py:36: FutureWarning: Pass the following variable as a keyword arg: x. From version 0.12, the only valid positional argument will be `data`, and passing other arguments without an explicit keyword will result in an error or misinterpretation.\n",
      "  warnings.warn(\n"
     ]
    },
    {
     "data": {
      "text/plain": [
       "<AxesSubplot:xlabel='GarageArea'>"
      ]
     },
     "execution_count": 146,
     "metadata": {},
     "output_type": "execute_result"
    },
    {
     "data": {
      "image/png": "[encoded data removed]",
      "text/plain": [
       "<Figure size 640x480 with 1 Axes>"
      ]
     },
     "metadata": {},
     "output_type": "display_data"
    }
   ],
   "source": [
    "boxplot(t.GarageArea)"
   ]
  },
  {
   "cell_type": "code",
   "execution_count": 147,
   "id": "be357f46",
   "metadata": {},
   "outputs": [
    {
     "name": "stderr",
     "output_type": "stream",
     "text": [
      "C:\\Users\\boddu\\anaconda3\\lib\\site-packages\\seaborn\\_decorators.py:36: FutureWarning: Pass the following variables as keyword args: x, y. From version 0.12, the only valid positional argument will be `data`, and passing other arguments without an explicit keyword will result in an error or misinterpretation.\n",
      "  warnings.warn(\n"
     ]
    },
    {
     "data": {
      "text/plain": [
       "<AxesSubplot:xlabel='GarageArea'>"
      ]
     },
     "execution_count": 147,
     "metadata": {},
     "output_type": "execute_result"
    },
    {
     "data": {
      "image/png": "[encoded data removed]",
      "text/plain": [
       "<Figure size 640x480 with 1 Axes>"
      ]
     },
     "metadata": {},
     "output_type": "display_data"
    }
   ],
   "source": [
    "lineplot(t.GarageArea,pdf(t.GarageArea),marker='<')"
   ]
  },
  {
   "cell_type": "code",
   "execution_count": 148,
   "id": "74666add",
   "metadata": {},
   "outputs": [
    {
     "data": {
      "text/plain": [
       "TA    1022\n",
       "Fa      40\n",
       "Gd       7\n",
       "Po       1\n",
       "Ex       1\n",
       "Name: GarageQual, dtype: int64"
      ]
     },
     "execution_count": 148,
     "metadata": {},
     "output_type": "execute_result"
    }
   ],
   "source": [
    "t.GarageQual.value_counts()"
   ]
  },
  {
   "cell_type": "code",
   "execution_count": 149,
   "id": "5da044aa",
   "metadata": {},
   "outputs": [],
   "source": [
    "t=t[t.GarageQual!='Po']\n",
    "t=t[t.GarageQual!='Ex']\n",
    "t=t[t.GarageQual!='Gd']"
   ]
  },
  {
   "cell_type": "code",
   "execution_count": 150,
   "id": "1d4fc65a",
   "metadata": {},
   "outputs": [],
   "source": [
    "t.GarageQual=LabelEncoder().fit_transform(t.GarageQual)"
   ]
  },
  {
   "cell_type": "code",
   "execution_count": 151,
   "id": "007e540c",
   "metadata": {},
   "outputs": [
    {
     "data": {
      "text/plain": [
       "TA    1024\n",
       "Fa      30\n",
       "Gd       5\n",
       "Po       3\n",
       "Name: GarageCond, dtype: int64"
      ]
     },
     "execution_count": 151,
     "metadata": {},
     "output_type": "execute_result"
    }
   ],
   "source": [
    "t.GarageCond.value_counts()"
   ]
  },
  {
   "cell_type": "code",
   "execution_count": 152,
   "id": "c8be4ff8",
   "metadata": {},
   "outputs": [],
   "source": [
    "t.drop(['GarageCond'],axis=1,inplace=True)"
   ]
  },
  {
   "cell_type": "code",
   "execution_count": 153,
   "id": "3de8627f",
   "metadata": {},
   "outputs": [
    {
     "data": {
      "text/plain": [
       "Y    1004\n",
       "N      38\n",
       "P      20\n",
       "Name: PavedDrive, dtype: int64"
      ]
     },
     "execution_count": 153,
     "metadata": {},
     "output_type": "execute_result"
    }
   ],
   "source": [
    "t.PavedDrive.value_counts()"
   ]
  },
  {
   "cell_type": "code",
   "execution_count": 154,
   "id": "0dc77a3e",
   "metadata": {},
   "outputs": [],
   "source": [
    "t.PavedDrive=LabelEncoder().fit_transform(t.PavedDrive)"
   ]
  },
  {
   "cell_type": "code",
   "execution_count": 155,
   "id": "c4a9bcfd",
   "metadata": {},
   "outputs": [
    {
     "data": {
      "text/plain": [
       "0      544\n",
       "192     32\n",
       "100     31\n",
       "144     27\n",
       "168     25\n",
       "      ... \n",
       "382      1\n",
       "179      1\n",
       "176      1\n",
       "390      1\n",
       "736      1\n",
       "Name: WoodDeckSF, Length: 216, dtype: int64"
      ]
     },
     "execution_count": 155,
     "metadata": {},
     "output_type": "execute_result"
    }
   ],
   "source": [
    "t.WoodDeckSF.value_counts()"
   ]
  },
  {
   "cell_type": "code",
   "execution_count": 156,
   "id": "c10a25a6",
   "metadata": {},
   "outputs": [],
   "source": [
    "t.WoodDeckSF=s.fit_transform(array(t.WoodDeckSF).reshape(-1,1))"
   ]
  },
  {
   "cell_type": "code",
   "execution_count": 157,
   "id": "dc782b69",
   "metadata": {},
   "outputs": [
    {
     "data": {
      "text/plain": [
       "0      460\n",
       "36      22\n",
       "20      19\n",
       "48      19\n",
       "45      15\n",
       "      ... \n",
       "134      1\n",
       "154      1\n",
       "195      1\n",
       "10       1\n",
       "169      1\n",
       "Name: OpenPorchSF, Length: 168, dtype: int64"
      ]
     },
     "execution_count": 157,
     "metadata": {},
     "output_type": "execute_result"
    }
   ],
   "source": [
    "t.OpenPorchSF.value_counts()"
   ]
  },
  {
   "cell_type": "code",
   "execution_count": 158,
   "id": "afdfa320",
   "metadata": {},
   "outputs": [],
   "source": [
    "t.OpenPorchSF=s.fit_transform(array(t.OpenPorchSF).reshape(-1,1))"
   ]
  },
  {
   "cell_type": "code",
   "execution_count": 159,
   "id": "4e348f93",
   "metadata": {},
   "outputs": [
    {
     "data": {
      "text/plain": [
       "0      914\n",
       "112     12\n",
       "96       5\n",
       "192      4\n",
       "120      4\n",
       "      ... \n",
       "64       1\n",
       "67       1\n",
       "56       1\n",
       "129      1\n",
       "99       1\n",
       "Name: EnclosedPorch, Length: 93, dtype: int64"
      ]
     },
     "execution_count": 159,
     "metadata": {},
     "output_type": "execute_result"
    }
   ],
   "source": [
    "t.EnclosedPorch.value_counts()"
   ]
  },
  {
   "cell_type": "code",
   "execution_count": 160,
   "id": "09f28c46",
   "metadata": {},
   "outputs": [],
   "source": [
    "t.EnclosedPorch=s.fit_transform(array(t.EnclosedPorch).reshape(-1,1))"
   ]
  },
  {
   "cell_type": "code",
   "execution_count": 161,
   "id": "94cb22e1",
   "metadata": {},
   "outputs": [
    {
     "data": {
      "text/plain": [
       "0      1045\n",
       "144       2\n",
       "168       2\n",
       "320       1\n",
       "407       1\n",
       "180       1\n",
       "140       1\n",
       "508       1\n",
       "238       1\n",
       "245       1\n",
       "196       1\n",
       "23        1\n",
       "216       1\n",
       "96        1\n",
       "153       1\n",
       "304       1\n",
       "Name: 3SsnPorch, dtype: int64"
      ]
     },
     "execution_count": 161,
     "metadata": {},
     "output_type": "execute_result"
    }
   ],
   "source": [
    "t['3SsnPorch'].value_counts()"
   ]
  },
  {
   "cell_type": "code",
   "execution_count": 162,
   "id": "3147ff5c",
   "metadata": {},
   "outputs": [],
   "source": [
    "t.drop(['3SsnPorch'],axis=1,inplace=True)"
   ]
  },
  {
   "cell_type": "code",
   "execution_count": 163,
   "id": "502efc5d",
   "metadata": {},
   "outputs": [
    {
     "data": {
      "text/plain": [
       "0      976\n",
       "192      5\n",
       "120      5\n",
       "180      4\n",
       "126      3\n",
       "      ... \n",
       "145      1\n",
       "200      1\n",
       "122      1\n",
       "260      1\n",
       "40       1\n",
       "Name: ScreenPorch, Length: 63, dtype: int64"
      ]
     },
     "execution_count": 163,
     "metadata": {},
     "output_type": "execute_result"
    }
   ],
   "source": [
    "t.ScreenPorch.value_counts()"
   ]
  },
  {
   "cell_type": "code",
   "execution_count": 164,
   "id": "f66608c4",
   "metadata": {},
   "outputs": [],
   "source": [
    "t.drop(['ScreenPorch'],axis=1,inplace=True)"
   ]
  },
  {
   "cell_type": "code",
   "execution_count": 165,
   "id": "43b420b0",
   "metadata": {},
   "outputs": [
    {
     "data": {
      "text/plain": [
       "0      1060\n",
       "648       1\n",
       "576       1\n",
       "Name: PoolArea, dtype: int64"
      ]
     },
     "execution_count": 165,
     "metadata": {},
     "output_type": "execute_result"
    }
   ],
   "source": [
    "t.PoolArea.value_counts()"
   ]
  },
  {
   "cell_type": "code",
   "execution_count": 166,
   "id": "e2d65b84",
   "metadata": {},
   "outputs": [],
   "source": [
    "t.drop(['PoolArea'],axis=1,inplace=True)"
   ]
  },
  {
   "cell_type": "code",
   "execution_count": 167,
   "id": "78e19413",
   "metadata": {},
   "outputs": [
    {
     "data": {
      "text/plain": [
       "0        1023\n",
       "400        10\n",
       "500         6\n",
       "700         4\n",
       "600         3\n",
       "480         2\n",
       "450         2\n",
       "1200        2\n",
       "2000        2\n",
       "54          1\n",
       "1400        1\n",
       "620         1\n",
       "800         1\n",
       "1300        1\n",
       "15500       1\n",
       "350         1\n",
       "2500        1\n",
       "Name: MiscVal, dtype: int64"
      ]
     },
     "execution_count": 167,
     "metadata": {},
     "output_type": "execute_result"
    }
   ],
   "source": [
    "t.MiscVal.value_counts()"
   ]
  },
  {
   "cell_type": "code",
   "execution_count": 168,
   "id": "704ba0c3",
   "metadata": {},
   "outputs": [],
   "source": [
    "t=t[t.MiscVal==0]\n",
    "t.drop(['MiscVal'],axis=1,inplace=True)"
   ]
  },
  {
   "cell_type": "code",
   "execution_count": 169,
   "id": "6bb8273f",
   "metadata": {},
   "outputs": [
    {
     "data": {
      "text/plain": [
       "0        2\n",
       "1        5\n",
       "2        9\n",
       "3        2\n",
       "4       12\n",
       "        ..\n",
       "1454    10\n",
       "1455     8\n",
       "1456     2\n",
       "1458     4\n",
       "1459     6\n",
       "Name: MoSold, Length: 1023, dtype: int64"
      ]
     },
     "execution_count": 169,
     "metadata": {},
     "output_type": "execute_result"
    }
   ],
   "source": [
    "t.MoSold"
   ]
  },
  {
   "cell_type": "code",
   "execution_count": 170,
   "id": "8ac2ae7c",
   "metadata": {},
   "outputs": [],
   "source": [
    "t.MoSold=s.fit_transform(array(t.MoSold).reshape(-1,1))"
   ]
  },
  {
   "cell_type": "code",
   "execution_count": 171,
   "id": "1f63a896",
   "metadata": {},
   "outputs": [],
   "source": [
    "t.YrSold=s.fit_transform(array(t.YrSold).reshape(-1,1))"
   ]
  },
  {
   "cell_type": "code",
   "execution_count": 172,
   "id": "5f9e439e",
   "metadata": {},
   "outputs": [
    {
     "data": {
      "text/plain": [
       "WD       891\n",
       "New       86\n",
       "COD       30\n",
       "CWD        4\n",
       "ConLw      4\n",
       "ConLD      4\n",
       "ConLI      2\n",
       "Con        1\n",
       "Oth        1\n",
       "Name: SaleType, dtype: int64"
      ]
     },
     "execution_count": 172,
     "metadata": {},
     "output_type": "execute_result"
    }
   ],
   "source": [
    "t.SaleType.value_counts()"
   ]
  },
  {
   "cell_type": "code",
   "execution_count": 173,
   "id": "1502335a",
   "metadata": {},
   "outputs": [],
   "source": [
    "j=['CWD','ConLw','ConLD','ConLI','Con','Oth']\n",
    "for i in j:\n",
    "    t=t[t.SaleType!=i]"
   ]
  },
  {
   "cell_type": "code",
   "execution_count": 174,
   "id": "cc9b39bd",
   "metadata": {},
   "outputs": [],
   "source": [
    "t.SaleType=LabelEncoder().fit_transform(t.SaleType)"
   ]
  },
  {
   "cell_type": "code",
   "execution_count": 175,
   "id": "5eb852dd",
   "metadata": {},
   "outputs": [
    {
     "data": {
      "text/plain": [
       "Normal     843\n",
       "Partial     87\n",
       "Abnorml     63\n",
       "Family      12\n",
       "AdjLand      1\n",
       "Alloca       1\n",
       "Name: SaleCondition, dtype: int64"
      ]
     },
     "execution_count": 175,
     "metadata": {},
     "output_type": "execute_result"
    }
   ],
   "source": [
    "t.SaleCondition.value_counts()"
   ]
  },
  {
   "cell_type": "code",
   "execution_count": 176,
   "id": "db90b677",
   "metadata": {},
   "outputs": [],
   "source": [
    "t=t[t.SaleCondition!='AdjLand']\n",
    "t=t[t.SaleCondition!='Alloca']"
   ]
  },
  {
   "cell_type": "code",
   "execution_count": 177,
   "id": "372400eb",
   "metadata": {},
   "outputs": [],
   "source": [
    "t.SaleCondition=LabelEncoder().fit_transform(t.SaleCondition)"
   ]
  },
  {
   "cell_type": "code",
   "execution_count": 178,
   "id": "585a2edb",
   "metadata": {},
   "outputs": [],
   "source": [
    "t['Porch']=t['OpenPorchSF']+t['EnclosedPorch']\n",
    "t.drop(['EnclosedPorch','OpenPorchSF'],axis=1,inplace=True)"
   ]
  },
  {
   "cell_type": "code",
   "execution_count": 179,
   "id": "37d43639",
   "metadata": {},
   "outputs": [
    {
     "data": {
      "text/plain": [
       "<AxesSubplot:>"
      ]
     },
     "execution_count": 179,
     "metadata": {},
     "output_type": "execute_result"
    },
    {
     "data": {
      "image/png": "[encoded data removed]",
      "text/plain": [
       "<Figure size 640x480 with 2 Axes>"
      ]
     },
     "metadata": {},
     "output_type": "display_data"
    }
   ],
   "source": [
    "heatmap(t.corr())"
   ]
  },
  {
   "cell_type": "code",
   "execution_count": 180,
   "id": "a5c96a1d",
   "metadata": {},
   "outputs": [],
   "source": [
    "c=t.corr()"
   ]
  },
  {
   "cell_type": "code",
   "execution_count": 181,
   "id": "b1219806",
   "metadata": {},
   "outputs": [
    {
     "data": {
      "text/html": [
       "<div>\n",
       "<style scoped>\n",
       "    .dataframe tbody tr th:only-of-type {\n",
       "        vertical-align: middle;\n",
       "    }\n",
       "\n",
       "    .dataframe tbody tr th {\n",
       "        vertical-align: top;\n",
       "    }\n",
       "\n",
       "    .dataframe thead th {\n",
       "        text-align: right;\n",
       "    }\n",
       "</style>\n",
       "<table border=\"1\" class=\"dataframe\">\n",
       "  <thead>\n",
       "    <tr style=\"text-align: right;\">\n",
       "      <th></th>\n",
       "      <th>MSSubClass</th>\n",
       "      <th>MSZoning</th>\n",
       "      <th>LotFrontage</th>\n",
       "      <th>LotArea</th>\n",
       "      <th>LotShape</th>\n",
       "      <th>LandContour</th>\n",
       "      <th>LotConfig</th>\n",
       "      <th>Neighborhood</th>\n",
       "      <th>BldgType</th>\n",
       "      <th>HouseStyle</th>\n",
       "      <th>...</th>\n",
       "      <th>GarageArea</th>\n",
       "      <th>GarageQual</th>\n",
       "      <th>PavedDrive</th>\n",
       "      <th>WoodDeckSF</th>\n",
       "      <th>MoSold</th>\n",
       "      <th>YrSold</th>\n",
       "      <th>SaleType</th>\n",
       "      <th>SaleCondition</th>\n",
       "      <th>SalePrice</th>\n",
       "      <th>Porch</th>\n",
       "    </tr>\n",
       "  </thead>\n",
       "  <tbody>\n",
       "    <tr>\n",
       "      <th>MSSubClass</th>\n",
       "      <td>1.0</td>\n",
       "      <td>NaN</td>\n",
       "      <td>NaN</td>\n",
       "      <td>NaN</td>\n",
       "      <td>NaN</td>\n",
       "      <td>NaN</td>\n",
       "      <td>NaN</td>\n",
       "      <td>NaN</td>\n",
       "      <td>NaN</td>\n",
       "      <td>NaN</td>\n",
       "      <td>...</td>\n",
       "      <td>NaN</td>\n",
       "      <td>NaN</td>\n",
       "      <td>NaN</td>\n",
       "      <td>NaN</td>\n",
       "      <td>NaN</td>\n",
       "      <td>NaN</td>\n",
       "      <td>NaN</td>\n",
       "      <td>NaN</td>\n",
       "      <td>NaN</td>\n",
       "      <td>NaN</td>\n",
       "    </tr>\n",
       "    <tr>\n",
       "      <th>MSZoning</th>\n",
       "      <td>NaN</td>\n",
       "      <td>1.0</td>\n",
       "      <td>NaN</td>\n",
       "      <td>NaN</td>\n",
       "      <td>NaN</td>\n",
       "      <td>NaN</td>\n",
       "      <td>NaN</td>\n",
       "      <td>NaN</td>\n",
       "      <td>NaN</td>\n",
       "      <td>NaN</td>\n",
       "      <td>...</td>\n",
       "      <td>NaN</td>\n",
       "      <td>NaN</td>\n",
       "      <td>NaN</td>\n",
       "      <td>NaN</td>\n",
       "      <td>NaN</td>\n",
       "      <td>NaN</td>\n",
       "      <td>NaN</td>\n",
       "      <td>NaN</td>\n",
       "      <td>NaN</td>\n",
       "      <td>NaN</td>\n",
       "    </tr>\n",
       "    <tr>\n",
       "      <th>LotFrontage</th>\n",
       "      <td>NaN</td>\n",
       "      <td>NaN</td>\n",
       "      <td>1.0</td>\n",
       "      <td>NaN</td>\n",
       "      <td>NaN</td>\n",
       "      <td>NaN</td>\n",
       "      <td>NaN</td>\n",
       "      <td>NaN</td>\n",
       "      <td>NaN</td>\n",
       "      <td>NaN</td>\n",
       "      <td>...</td>\n",
       "      <td>NaN</td>\n",
       "      <td>NaN</td>\n",
       "      <td>NaN</td>\n",
       "      <td>NaN</td>\n",
       "      <td>NaN</td>\n",
       "      <td>NaN</td>\n",
       "      <td>NaN</td>\n",
       "      <td>NaN</td>\n",
       "      <td>NaN</td>\n",
       "      <td>NaN</td>\n",
       "    </tr>\n",
       "    <tr>\n",
       "      <th>LotArea</th>\n",
       "      <td>NaN</td>\n",
       "      <td>NaN</td>\n",
       "      <td>NaN</td>\n",
       "      <td>1.0</td>\n",
       "      <td>NaN</td>\n",
       "      <td>NaN</td>\n",
       "      <td>NaN</td>\n",
       "      <td>NaN</td>\n",
       "      <td>NaN</td>\n",
       "      <td>NaN</td>\n",
       "      <td>...</td>\n",
       "      <td>NaN</td>\n",
       "      <td>NaN</td>\n",
       "      <td>NaN</td>\n",
       "      <td>NaN</td>\n",
       "      <td>NaN</td>\n",
       "      <td>NaN</td>\n",
       "      <td>NaN</td>\n",
       "      <td>NaN</td>\n",
       "      <td>NaN</td>\n",
       "      <td>NaN</td>\n",
       "    </tr>\n",
       "    <tr>\n",
       "      <th>LotShape</th>\n",
       "      <td>NaN</td>\n",
       "      <td>NaN</td>\n",
       "      <td>NaN</td>\n",
       "      <td>NaN</td>\n",
       "      <td>1.0</td>\n",
       "      <td>NaN</td>\n",
       "      <td>NaN</td>\n",
       "      <td>NaN</td>\n",
       "      <td>NaN</td>\n",
       "      <td>NaN</td>\n",
       "      <td>...</td>\n",
       "      <td>NaN</td>\n",
       "      <td>NaN</td>\n",
       "      <td>NaN</td>\n",
       "      <td>NaN</td>\n",
       "      <td>NaN</td>\n",
       "      <td>NaN</td>\n",
       "      <td>NaN</td>\n",
       "      <td>NaN</td>\n",
       "      <td>NaN</td>\n",
       "      <td>NaN</td>\n",
       "    </tr>\n",
       "    <tr>\n",
       "      <th>LandContour</th>\n",
       "      <td>NaN</td>\n",
       "      <td>NaN</td>\n",
       "      <td>NaN</td>\n",
       "      <td>NaN</td>\n",
       "      <td>NaN</td>\n",
       "      <td>1.0</td>\n",
       "      <td>NaN</td>\n",
       "      <td>NaN</td>\n",
       "      <td>NaN</td>\n",
       "      <td>NaN</td>\n",
       "      <td>...</td>\n",
       "      <td>NaN</td>\n",
       "      <td>NaN</td>\n",
       "      <td>NaN</td>\n",
       "      <td>NaN</td>\n",
       "      <td>NaN</td>\n",
       "      <td>NaN</td>\n",
       "      <td>NaN</td>\n",
       "      <td>NaN</td>\n",
       "      <td>NaN</td>\n",
       "      <td>NaN</td>\n",
       "    </tr>\n",
       "    <tr>\n",
       "      <th>LotConfig</th>\n",
       "      <td>NaN</td>\n",
       "      <td>NaN</td>\n",
       "      <td>NaN</td>\n",
       "      <td>NaN</td>\n",
       "      <td>NaN</td>\n",
       "      <td>NaN</td>\n",
       "      <td>1.0</td>\n",
       "      <td>NaN</td>\n",
       "      <td>NaN</td>\n",
       "      <td>NaN</td>\n",
       "      <td>...</td>\n",
       "      <td>NaN</td>\n",
       "      <td>NaN</td>\n",
       "      <td>NaN</td>\n",
       "      <td>NaN</td>\n",
       "      <td>NaN</td>\n",
       "      <td>NaN</td>\n",
       "      <td>NaN</td>\n",
       "      <td>NaN</td>\n",
       "      <td>NaN</td>\n",
       "      <td>NaN</td>\n",
       "    </tr>\n",
       "    <tr>\n",
       "      <th>Neighborhood</th>\n",
       "      <td>NaN</td>\n",
       "      <td>NaN</td>\n",
       "      <td>NaN</td>\n",
       "      <td>NaN</td>\n",
       "      <td>NaN</td>\n",
       "      <td>NaN</td>\n",
       "      <td>NaN</td>\n",
       "      <td>1.0</td>\n",
       "      <td>NaN</td>\n",
       "      <td>NaN</td>\n",
       "      <td>...</td>\n",
       "      <td>NaN</td>\n",
       "      <td>NaN</td>\n",
       "      <td>NaN</td>\n",
       "      <td>NaN</td>\n",
       "      <td>NaN</td>\n",
       "      <td>NaN</td>\n",
       "      <td>NaN</td>\n",
       "      <td>NaN</td>\n",
       "      <td>NaN</td>\n",
       "      <td>NaN</td>\n",
       "    </tr>\n",
       "    <tr>\n",
       "      <th>BldgType</th>\n",
       "      <td>NaN</td>\n",
       "      <td>NaN</td>\n",
       "      <td>NaN</td>\n",
       "      <td>NaN</td>\n",
       "      <td>NaN</td>\n",
       "      <td>NaN</td>\n",
       "      <td>NaN</td>\n",
       "      <td>NaN</td>\n",
       "      <td>1.0</td>\n",
       "      <td>NaN</td>\n",
       "      <td>...</td>\n",
       "      <td>NaN</td>\n",
       "      <td>NaN</td>\n",
       "      <td>NaN</td>\n",
       "      <td>NaN</td>\n",
       "      <td>NaN</td>\n",
       "      <td>NaN</td>\n",
       "      <td>NaN</td>\n",
       "      <td>NaN</td>\n",
       "      <td>NaN</td>\n",
       "      <td>NaN</td>\n",
       "    </tr>\n",
       "    <tr>\n",
       "      <th>HouseStyle</th>\n",
       "      <td>NaN</td>\n",
       "      <td>NaN</td>\n",
       "      <td>NaN</td>\n",
       "      <td>NaN</td>\n",
       "      <td>NaN</td>\n",
       "      <td>NaN</td>\n",
       "      <td>NaN</td>\n",
       "      <td>NaN</td>\n",
       "      <td>NaN</td>\n",
       "      <td>1.0</td>\n",
       "      <td>...</td>\n",
       "      <td>NaN</td>\n",
       "      <td>NaN</td>\n",
       "      <td>NaN</td>\n",
       "      <td>NaN</td>\n",
       "      <td>NaN</td>\n",
       "      <td>NaN</td>\n",
       "      <td>NaN</td>\n",
       "      <td>NaN</td>\n",
       "      <td>NaN</td>\n",
       "      <td>NaN</td>\n",
       "    </tr>\n",
       "    <tr>\n",
       "      <th>OverallQual</th>\n",
       "      <td>NaN</td>\n",
       "      <td>NaN</td>\n",
       "      <td>NaN</td>\n",
       "      <td>NaN</td>\n",
       "      <td>NaN</td>\n",
       "      <td>NaN</td>\n",
       "      <td>NaN</td>\n",
       "      <td>NaN</td>\n",
       "      <td>NaN</td>\n",
       "      <td>NaN</td>\n",
       "      <td>...</td>\n",
       "      <td>NaN</td>\n",
       "      <td>NaN</td>\n",
       "      <td>NaN</td>\n",
       "      <td>NaN</td>\n",
       "      <td>NaN</td>\n",
       "      <td>NaN</td>\n",
       "      <td>NaN</td>\n",
       "      <td>NaN</td>\n",
       "      <td>0.812968</td>\n",
       "      <td>NaN</td>\n",
       "    </tr>\n",
       "    <tr>\n",
       "      <th>YearBuilt</th>\n",
       "      <td>NaN</td>\n",
       "      <td>NaN</td>\n",
       "      <td>NaN</td>\n",
       "      <td>NaN</td>\n",
       "      <td>NaN</td>\n",
       "      <td>NaN</td>\n",
       "      <td>NaN</td>\n",
       "      <td>NaN</td>\n",
       "      <td>NaN</td>\n",
       "      <td>NaN</td>\n",
       "      <td>...</td>\n",
       "      <td>NaN</td>\n",
       "      <td>NaN</td>\n",
       "      <td>NaN</td>\n",
       "      <td>NaN</td>\n",
       "      <td>NaN</td>\n",
       "      <td>NaN</td>\n",
       "      <td>NaN</td>\n",
       "      <td>NaN</td>\n",
       "      <td>NaN</td>\n",
       "      <td>NaN</td>\n",
       "    </tr>\n",
       "    <tr>\n",
       "      <th>YearRemodAdd</th>\n",
       "      <td>NaN</td>\n",
       "      <td>NaN</td>\n",
       "      <td>NaN</td>\n",
       "      <td>NaN</td>\n",
       "      <td>NaN</td>\n",
       "      <td>NaN</td>\n",
       "      <td>NaN</td>\n",
       "      <td>NaN</td>\n",
       "      <td>NaN</td>\n",
       "      <td>NaN</td>\n",
       "      <td>...</td>\n",
       "      <td>NaN</td>\n",
       "      <td>NaN</td>\n",
       "      <td>NaN</td>\n",
       "      <td>NaN</td>\n",
       "      <td>NaN</td>\n",
       "      <td>NaN</td>\n",
       "      <td>NaN</td>\n",
       "      <td>NaN</td>\n",
       "      <td>NaN</td>\n",
       "      <td>NaN</td>\n",
       "    </tr>\n",
       "    <tr>\n",
       "      <th>RoofStyle</th>\n",
       "      <td>NaN</td>\n",
       "      <td>NaN</td>\n",
       "      <td>NaN</td>\n",
       "      <td>NaN</td>\n",
       "      <td>NaN</td>\n",
       "      <td>NaN</td>\n",
       "      <td>NaN</td>\n",
       "      <td>NaN</td>\n",
       "      <td>NaN</td>\n",
       "      <td>NaN</td>\n",
       "      <td>...</td>\n",
       "      <td>NaN</td>\n",
       "      <td>NaN</td>\n",
       "      <td>NaN</td>\n",
       "      <td>NaN</td>\n",
       "      <td>NaN</td>\n",
       "      <td>NaN</td>\n",
       "      <td>NaN</td>\n",
       "      <td>NaN</td>\n",
       "      <td>NaN</td>\n",
       "      <td>NaN</td>\n",
       "    </tr>\n",
       "    <tr>\n",
       "      <th>Exterior2nd</th>\n",
       "      <td>NaN</td>\n",
       "      <td>NaN</td>\n",
       "      <td>NaN</td>\n",
       "      <td>NaN</td>\n",
       "      <td>NaN</td>\n",
       "      <td>NaN</td>\n",
       "      <td>NaN</td>\n",
       "      <td>NaN</td>\n",
       "      <td>NaN</td>\n",
       "      <td>NaN</td>\n",
       "      <td>...</td>\n",
       "      <td>NaN</td>\n",
       "      <td>NaN</td>\n",
       "      <td>NaN</td>\n",
       "      <td>NaN</td>\n",
       "      <td>NaN</td>\n",
       "      <td>NaN</td>\n",
       "      <td>NaN</td>\n",
       "      <td>NaN</td>\n",
       "      <td>NaN</td>\n",
       "      <td>NaN</td>\n",
       "    </tr>\n",
       "    <tr>\n",
       "      <th>MasVnrType</th>\n",
       "      <td>NaN</td>\n",
       "      <td>NaN</td>\n",
       "      <td>NaN</td>\n",
       "      <td>NaN</td>\n",
       "      <td>NaN</td>\n",
       "      <td>NaN</td>\n",
       "      <td>NaN</td>\n",
       "      <td>NaN</td>\n",
       "      <td>NaN</td>\n",
       "      <td>NaN</td>\n",
       "      <td>...</td>\n",
       "      <td>NaN</td>\n",
       "      <td>NaN</td>\n",
       "      <td>NaN</td>\n",
       "      <td>NaN</td>\n",
       "      <td>NaN</td>\n",
       "      <td>NaN</td>\n",
       "      <td>NaN</td>\n",
       "      <td>NaN</td>\n",
       "      <td>NaN</td>\n",
       "      <td>NaN</td>\n",
       "    </tr>\n",
       "    <tr>\n",
       "      <th>ExterCond</th>\n",
       "      <td>NaN</td>\n",
       "      <td>NaN</td>\n",
       "      <td>NaN</td>\n",
       "      <td>NaN</td>\n",
       "      <td>NaN</td>\n",
       "      <td>NaN</td>\n",
       "      <td>NaN</td>\n",
       "      <td>NaN</td>\n",
       "      <td>NaN</td>\n",
       "      <td>NaN</td>\n",
       "      <td>...</td>\n",
       "      <td>NaN</td>\n",
       "      <td>NaN</td>\n",
       "      <td>NaN</td>\n",
       "      <td>NaN</td>\n",
       "      <td>NaN</td>\n",
       "      <td>NaN</td>\n",
       "      <td>NaN</td>\n",
       "      <td>NaN</td>\n",
       "      <td>NaN</td>\n",
       "      <td>NaN</td>\n",
       "    </tr>\n",
       "    <tr>\n",
       "      <th>Foundation</th>\n",
       "      <td>NaN</td>\n",
       "      <td>NaN</td>\n",
       "      <td>NaN</td>\n",
       "      <td>NaN</td>\n",
       "      <td>NaN</td>\n",
       "      <td>NaN</td>\n",
       "      <td>NaN</td>\n",
       "      <td>NaN</td>\n",
       "      <td>NaN</td>\n",
       "      <td>NaN</td>\n",
       "      <td>...</td>\n",
       "      <td>NaN</td>\n",
       "      <td>NaN</td>\n",
       "      <td>NaN</td>\n",
       "      <td>NaN</td>\n",
       "      <td>NaN</td>\n",
       "      <td>NaN</td>\n",
       "      <td>NaN</td>\n",
       "      <td>NaN</td>\n",
       "      <td>NaN</td>\n",
       "      <td>NaN</td>\n",
       "    </tr>\n",
       "    <tr>\n",
       "      <th>BsmtQual</th>\n",
       "      <td>NaN</td>\n",
       "      <td>NaN</td>\n",
       "      <td>NaN</td>\n",
       "      <td>NaN</td>\n",
       "      <td>NaN</td>\n",
       "      <td>NaN</td>\n",
       "      <td>NaN</td>\n",
       "      <td>NaN</td>\n",
       "      <td>NaN</td>\n",
       "      <td>NaN</td>\n",
       "      <td>...</td>\n",
       "      <td>NaN</td>\n",
       "      <td>NaN</td>\n",
       "      <td>NaN</td>\n",
       "      <td>NaN</td>\n",
       "      <td>NaN</td>\n",
       "      <td>NaN</td>\n",
       "      <td>NaN</td>\n",
       "      <td>NaN</td>\n",
       "      <td>NaN</td>\n",
       "      <td>NaN</td>\n",
       "    </tr>\n",
       "    <tr>\n",
       "      <th>BsmtCond</th>\n",
       "      <td>NaN</td>\n",
       "      <td>NaN</td>\n",
       "      <td>NaN</td>\n",
       "      <td>NaN</td>\n",
       "      <td>NaN</td>\n",
       "      <td>NaN</td>\n",
       "      <td>NaN</td>\n",
       "      <td>NaN</td>\n",
       "      <td>NaN</td>\n",
       "      <td>NaN</td>\n",
       "      <td>...</td>\n",
       "      <td>NaN</td>\n",
       "      <td>NaN</td>\n",
       "      <td>NaN</td>\n",
       "      <td>NaN</td>\n",
       "      <td>NaN</td>\n",
       "      <td>NaN</td>\n",
       "      <td>NaN</td>\n",
       "      <td>NaN</td>\n",
       "      <td>NaN</td>\n",
       "      <td>NaN</td>\n",
       "    </tr>\n",
       "    <tr>\n",
       "      <th>BsmtExposure</th>\n",
       "      <td>NaN</td>\n",
       "      <td>NaN</td>\n",
       "      <td>NaN</td>\n",
       "      <td>NaN</td>\n",
       "      <td>NaN</td>\n",
       "      <td>NaN</td>\n",
       "      <td>NaN</td>\n",
       "      <td>NaN</td>\n",
       "      <td>NaN</td>\n",
       "      <td>NaN</td>\n",
       "      <td>...</td>\n",
       "      <td>NaN</td>\n",
       "      <td>NaN</td>\n",
       "      <td>NaN</td>\n",
       "      <td>NaN</td>\n",
       "      <td>NaN</td>\n",
       "      <td>NaN</td>\n",
       "      <td>NaN</td>\n",
       "      <td>NaN</td>\n",
       "      <td>NaN</td>\n",
       "      <td>NaN</td>\n",
       "    </tr>\n",
       "    <tr>\n",
       "      <th>BsmtFinType1</th>\n",
       "      <td>NaN</td>\n",
       "      <td>NaN</td>\n",
       "      <td>NaN</td>\n",
       "      <td>NaN</td>\n",
       "      <td>NaN</td>\n",
       "      <td>NaN</td>\n",
       "      <td>NaN</td>\n",
       "      <td>NaN</td>\n",
       "      <td>NaN</td>\n",
       "      <td>NaN</td>\n",
       "      <td>...</td>\n",
       "      <td>NaN</td>\n",
       "      <td>NaN</td>\n",
       "      <td>NaN</td>\n",
       "      <td>NaN</td>\n",
       "      <td>NaN</td>\n",
       "      <td>NaN</td>\n",
       "      <td>NaN</td>\n",
       "      <td>NaN</td>\n",
       "      <td>NaN</td>\n",
       "      <td>NaN</td>\n",
       "    </tr>\n",
       "    <tr>\n",
       "      <th>BsmtFinSF1</th>\n",
       "      <td>NaN</td>\n",
       "      <td>NaN</td>\n",
       "      <td>NaN</td>\n",
       "      <td>NaN</td>\n",
       "      <td>NaN</td>\n",
       "      <td>NaN</td>\n",
       "      <td>NaN</td>\n",
       "      <td>NaN</td>\n",
       "      <td>NaN</td>\n",
       "      <td>NaN</td>\n",
       "      <td>...</td>\n",
       "      <td>NaN</td>\n",
       "      <td>NaN</td>\n",
       "      <td>NaN</td>\n",
       "      <td>NaN</td>\n",
       "      <td>NaN</td>\n",
       "      <td>NaN</td>\n",
       "      <td>NaN</td>\n",
       "      <td>NaN</td>\n",
       "      <td>NaN</td>\n",
       "      <td>NaN</td>\n",
       "    </tr>\n",
       "    <tr>\n",
       "      <th>BsmtUnfSF</th>\n",
       "      <td>NaN</td>\n",
       "      <td>NaN</td>\n",
       "      <td>NaN</td>\n",
       "      <td>NaN</td>\n",
       "      <td>NaN</td>\n",
       "      <td>NaN</td>\n",
       "      <td>NaN</td>\n",
       "      <td>NaN</td>\n",
       "      <td>NaN</td>\n",
       "      <td>NaN</td>\n",
       "      <td>...</td>\n",
       "      <td>NaN</td>\n",
       "      <td>NaN</td>\n",
       "      <td>NaN</td>\n",
       "      <td>NaN</td>\n",
       "      <td>NaN</td>\n",
       "      <td>NaN</td>\n",
       "      <td>NaN</td>\n",
       "      <td>NaN</td>\n",
       "      <td>NaN</td>\n",
       "      <td>NaN</td>\n",
       "    </tr>\n",
       "    <tr>\n",
       "      <th>TotalBsmtSF</th>\n",
       "      <td>NaN</td>\n",
       "      <td>NaN</td>\n",
       "      <td>NaN</td>\n",
       "      <td>NaN</td>\n",
       "      <td>NaN</td>\n",
       "      <td>NaN</td>\n",
       "      <td>NaN</td>\n",
       "      <td>NaN</td>\n",
       "      <td>NaN</td>\n",
       "      <td>NaN</td>\n",
       "      <td>...</td>\n",
       "      <td>NaN</td>\n",
       "      <td>NaN</td>\n",
       "      <td>NaN</td>\n",
       "      <td>NaN</td>\n",
       "      <td>NaN</td>\n",
       "      <td>NaN</td>\n",
       "      <td>NaN</td>\n",
       "      <td>NaN</td>\n",
       "      <td>NaN</td>\n",
       "      <td>NaN</td>\n",
       "    </tr>\n",
       "    <tr>\n",
       "      <th>HeatingQC</th>\n",
       "      <td>NaN</td>\n",
       "      <td>NaN</td>\n",
       "      <td>NaN</td>\n",
       "      <td>NaN</td>\n",
       "      <td>NaN</td>\n",
       "      <td>NaN</td>\n",
       "      <td>NaN</td>\n",
       "      <td>NaN</td>\n",
       "      <td>NaN</td>\n",
       "      <td>NaN</td>\n",
       "      <td>...</td>\n",
       "      <td>NaN</td>\n",
       "      <td>NaN</td>\n",
       "      <td>NaN</td>\n",
       "      <td>NaN</td>\n",
       "      <td>NaN</td>\n",
       "      <td>NaN</td>\n",
       "      <td>NaN</td>\n",
       "      <td>NaN</td>\n",
       "      <td>NaN</td>\n",
       "      <td>NaN</td>\n",
       "    </tr>\n",
       "    <tr>\n",
       "      <th>CentralAir</th>\n",
       "      <td>NaN</td>\n",
       "      <td>NaN</td>\n",
       "      <td>NaN</td>\n",
       "      <td>NaN</td>\n",
       "      <td>NaN</td>\n",
       "      <td>NaN</td>\n",
       "      <td>NaN</td>\n",
       "      <td>NaN</td>\n",
       "      <td>NaN</td>\n",
       "      <td>NaN</td>\n",
       "      <td>...</td>\n",
       "      <td>NaN</td>\n",
       "      <td>NaN</td>\n",
       "      <td>NaN</td>\n",
       "      <td>NaN</td>\n",
       "      <td>NaN</td>\n",
       "      <td>NaN</td>\n",
       "      <td>NaN</td>\n",
       "      <td>NaN</td>\n",
       "      <td>NaN</td>\n",
       "      <td>NaN</td>\n",
       "    </tr>\n",
       "    <tr>\n",
       "      <th>Electrical</th>\n",
       "      <td>NaN</td>\n",
       "      <td>NaN</td>\n",
       "      <td>NaN</td>\n",
       "      <td>NaN</td>\n",
       "      <td>NaN</td>\n",
       "      <td>NaN</td>\n",
       "      <td>NaN</td>\n",
       "      <td>NaN</td>\n",
       "      <td>NaN</td>\n",
       "      <td>NaN</td>\n",
       "      <td>...</td>\n",
       "      <td>NaN</td>\n",
       "      <td>NaN</td>\n",
       "      <td>NaN</td>\n",
       "      <td>NaN</td>\n",
       "      <td>NaN</td>\n",
       "      <td>NaN</td>\n",
       "      <td>NaN</td>\n",
       "      <td>NaN</td>\n",
       "      <td>NaN</td>\n",
       "      <td>NaN</td>\n",
       "    </tr>\n",
       "    <tr>\n",
       "      <th>1stFlrSF</th>\n",
       "      <td>NaN</td>\n",
       "      <td>NaN</td>\n",
       "      <td>NaN</td>\n",
       "      <td>NaN</td>\n",
       "      <td>NaN</td>\n",
       "      <td>NaN</td>\n",
       "      <td>NaN</td>\n",
       "      <td>NaN</td>\n",
       "      <td>NaN</td>\n",
       "      <td>NaN</td>\n",
       "      <td>...</td>\n",
       "      <td>NaN</td>\n",
       "      <td>NaN</td>\n",
       "      <td>NaN</td>\n",
       "      <td>NaN</td>\n",
       "      <td>NaN</td>\n",
       "      <td>NaN</td>\n",
       "      <td>NaN</td>\n",
       "      <td>NaN</td>\n",
       "      <td>NaN</td>\n",
       "      <td>NaN</td>\n",
       "    </tr>\n",
       "    <tr>\n",
       "      <th>GrLivArea</th>\n",
       "      <td>NaN</td>\n",
       "      <td>NaN</td>\n",
       "      <td>NaN</td>\n",
       "      <td>NaN</td>\n",
       "      <td>NaN</td>\n",
       "      <td>NaN</td>\n",
       "      <td>NaN</td>\n",
       "      <td>NaN</td>\n",
       "      <td>NaN</td>\n",
       "      <td>NaN</td>\n",
       "      <td>...</td>\n",
       "      <td>NaN</td>\n",
       "      <td>NaN</td>\n",
       "      <td>NaN</td>\n",
       "      <td>NaN</td>\n",
       "      <td>NaN</td>\n",
       "      <td>NaN</td>\n",
       "      <td>NaN</td>\n",
       "      <td>NaN</td>\n",
       "      <td>NaN</td>\n",
       "      <td>NaN</td>\n",
       "    </tr>\n",
       "    <tr>\n",
       "      <th>BsmtFullBath</th>\n",
       "      <td>NaN</td>\n",
       "      <td>NaN</td>\n",
       "      <td>NaN</td>\n",
       "      <td>NaN</td>\n",
       "      <td>NaN</td>\n",
       "      <td>NaN</td>\n",
       "      <td>NaN</td>\n",
       "      <td>NaN</td>\n",
       "      <td>NaN</td>\n",
       "      <td>NaN</td>\n",
       "      <td>...</td>\n",
       "      <td>NaN</td>\n",
       "      <td>NaN</td>\n",
       "      <td>NaN</td>\n",
       "      <td>NaN</td>\n",
       "      <td>NaN</td>\n",
       "      <td>NaN</td>\n",
       "      <td>NaN</td>\n",
       "      <td>NaN</td>\n",
       "      <td>NaN</td>\n",
       "      <td>NaN</td>\n",
       "    </tr>\n",
       "    <tr>\n",
       "      <th>BsmtHalfBath</th>\n",
       "      <td>NaN</td>\n",
       "      <td>NaN</td>\n",
       "      <td>NaN</td>\n",
       "      <td>NaN</td>\n",
       "      <td>NaN</td>\n",
       "      <td>NaN</td>\n",
       "      <td>NaN</td>\n",
       "      <td>NaN</td>\n",
       "      <td>NaN</td>\n",
       "      <td>NaN</td>\n",
       "      <td>...</td>\n",
       "      <td>NaN</td>\n",
       "      <td>NaN</td>\n",
       "      <td>NaN</td>\n",
       "      <td>NaN</td>\n",
       "      <td>NaN</td>\n",
       "      <td>NaN</td>\n",
       "      <td>NaN</td>\n",
       "      <td>NaN</td>\n",
       "      <td>NaN</td>\n",
       "      <td>NaN</td>\n",
       "    </tr>\n",
       "    <tr>\n",
       "      <th>FullBath</th>\n",
       "      <td>NaN</td>\n",
       "      <td>NaN</td>\n",
       "      <td>NaN</td>\n",
       "      <td>NaN</td>\n",
       "      <td>NaN</td>\n",
       "      <td>NaN</td>\n",
       "      <td>NaN</td>\n",
       "      <td>NaN</td>\n",
       "      <td>NaN</td>\n",
       "      <td>NaN</td>\n",
       "      <td>...</td>\n",
       "      <td>NaN</td>\n",
       "      <td>NaN</td>\n",
       "      <td>NaN</td>\n",
       "      <td>NaN</td>\n",
       "      <td>NaN</td>\n",
       "      <td>NaN</td>\n",
       "      <td>NaN</td>\n",
       "      <td>NaN</td>\n",
       "      <td>NaN</td>\n",
       "      <td>NaN</td>\n",
       "    </tr>\n",
       "    <tr>\n",
       "      <th>HalfBath</th>\n",
       "      <td>NaN</td>\n",
       "      <td>NaN</td>\n",
       "      <td>NaN</td>\n",
       "      <td>NaN</td>\n",
       "      <td>NaN</td>\n",
       "      <td>NaN</td>\n",
       "      <td>NaN</td>\n",
       "      <td>NaN</td>\n",
       "      <td>NaN</td>\n",
       "      <td>NaN</td>\n",
       "      <td>...</td>\n",
       "      <td>NaN</td>\n",
       "      <td>NaN</td>\n",
       "      <td>NaN</td>\n",
       "      <td>NaN</td>\n",
       "      <td>NaN</td>\n",
       "      <td>NaN</td>\n",
       "      <td>NaN</td>\n",
       "      <td>NaN</td>\n",
       "      <td>NaN</td>\n",
       "      <td>NaN</td>\n",
       "    </tr>\n",
       "    <tr>\n",
       "      <th>BedroomAbvGr</th>\n",
       "      <td>NaN</td>\n",
       "      <td>NaN</td>\n",
       "      <td>NaN</td>\n",
       "      <td>NaN</td>\n",
       "      <td>NaN</td>\n",
       "      <td>NaN</td>\n",
       "      <td>NaN</td>\n",
       "      <td>NaN</td>\n",
       "      <td>NaN</td>\n",
       "      <td>NaN</td>\n",
       "      <td>...</td>\n",
       "      <td>NaN</td>\n",
       "      <td>NaN</td>\n",
       "      <td>NaN</td>\n",
       "      <td>NaN</td>\n",
       "      <td>NaN</td>\n",
       "      <td>NaN</td>\n",
       "      <td>NaN</td>\n",
       "      <td>NaN</td>\n",
       "      <td>NaN</td>\n",
       "      <td>NaN</td>\n",
       "    </tr>\n",
       "    <tr>\n",
       "      <th>KitchenQual</th>\n",
       "      <td>NaN</td>\n",
       "      <td>NaN</td>\n",
       "      <td>NaN</td>\n",
       "      <td>NaN</td>\n",
       "      <td>NaN</td>\n",
       "      <td>NaN</td>\n",
       "      <td>NaN</td>\n",
       "      <td>NaN</td>\n",
       "      <td>NaN</td>\n",
       "      <td>NaN</td>\n",
       "      <td>...</td>\n",
       "      <td>NaN</td>\n",
       "      <td>NaN</td>\n",
       "      <td>NaN</td>\n",
       "      <td>NaN</td>\n",
       "      <td>NaN</td>\n",
       "      <td>NaN</td>\n",
       "      <td>NaN</td>\n",
       "      <td>NaN</td>\n",
       "      <td>NaN</td>\n",
       "      <td>NaN</td>\n",
       "    </tr>\n",
       "    <tr>\n",
       "      <th>TotRmsAbvGrd</th>\n",
       "      <td>NaN</td>\n",
       "      <td>NaN</td>\n",
       "      <td>NaN</td>\n",
       "      <td>NaN</td>\n",
       "      <td>NaN</td>\n",
       "      <td>NaN</td>\n",
       "      <td>NaN</td>\n",
       "      <td>NaN</td>\n",
       "      <td>NaN</td>\n",
       "      <td>NaN</td>\n",
       "      <td>...</td>\n",
       "      <td>NaN</td>\n",
       "      <td>NaN</td>\n",
       "      <td>NaN</td>\n",
       "      <td>NaN</td>\n",
       "      <td>NaN</td>\n",
       "      <td>NaN</td>\n",
       "      <td>NaN</td>\n",
       "      <td>NaN</td>\n",
       "      <td>NaN</td>\n",
       "      <td>NaN</td>\n",
       "    </tr>\n",
       "    <tr>\n",
       "      <th>Functional</th>\n",
       "      <td>NaN</td>\n",
       "      <td>NaN</td>\n",
       "      <td>NaN</td>\n",
       "      <td>NaN</td>\n",
       "      <td>NaN</td>\n",
       "      <td>NaN</td>\n",
       "      <td>NaN</td>\n",
       "      <td>NaN</td>\n",
       "      <td>NaN</td>\n",
       "      <td>NaN</td>\n",
       "      <td>...</td>\n",
       "      <td>NaN</td>\n",
       "      <td>NaN</td>\n",
       "      <td>NaN</td>\n",
       "      <td>NaN</td>\n",
       "      <td>NaN</td>\n",
       "      <td>NaN</td>\n",
       "      <td>NaN</td>\n",
       "      <td>NaN</td>\n",
       "      <td>NaN</td>\n",
       "      <td>NaN</td>\n",
       "    </tr>\n",
       "    <tr>\n",
       "      <th>Fireplaces</th>\n",
       "      <td>NaN</td>\n",
       "      <td>NaN</td>\n",
       "      <td>NaN</td>\n",
       "      <td>NaN</td>\n",
       "      <td>NaN</td>\n",
       "      <td>NaN</td>\n",
       "      <td>NaN</td>\n",
       "      <td>NaN</td>\n",
       "      <td>NaN</td>\n",
       "      <td>NaN</td>\n",
       "      <td>...</td>\n",
       "      <td>NaN</td>\n",
       "      <td>NaN</td>\n",
       "      <td>NaN</td>\n",
       "      <td>NaN</td>\n",
       "      <td>NaN</td>\n",
       "      <td>NaN</td>\n",
       "      <td>NaN</td>\n",
       "      <td>NaN</td>\n",
       "      <td>NaN</td>\n",
       "      <td>NaN</td>\n",
       "    </tr>\n",
       "    <tr>\n",
       "      <th>GarageType</th>\n",
       "      <td>NaN</td>\n",
       "      <td>NaN</td>\n",
       "      <td>NaN</td>\n",
       "      <td>NaN</td>\n",
       "      <td>NaN</td>\n",
       "      <td>NaN</td>\n",
       "      <td>NaN</td>\n",
       "      <td>NaN</td>\n",
       "      <td>NaN</td>\n",
       "      <td>NaN</td>\n",
       "      <td>...</td>\n",
       "      <td>NaN</td>\n",
       "      <td>NaN</td>\n",
       "      <td>NaN</td>\n",
       "      <td>NaN</td>\n",
       "      <td>NaN</td>\n",
       "      <td>NaN</td>\n",
       "      <td>NaN</td>\n",
       "      <td>NaN</td>\n",
       "      <td>NaN</td>\n",
       "      <td>NaN</td>\n",
       "    </tr>\n",
       "    <tr>\n",
       "      <th>GarageYrBlt</th>\n",
       "      <td>NaN</td>\n",
       "      <td>NaN</td>\n",
       "      <td>NaN</td>\n",
       "      <td>NaN</td>\n",
       "      <td>NaN</td>\n",
       "      <td>NaN</td>\n",
       "      <td>NaN</td>\n",
       "      <td>NaN</td>\n",
       "      <td>NaN</td>\n",
       "      <td>NaN</td>\n",
       "      <td>...</td>\n",
       "      <td>NaN</td>\n",
       "      <td>NaN</td>\n",
       "      <td>NaN</td>\n",
       "      <td>NaN</td>\n",
       "      <td>NaN</td>\n",
       "      <td>NaN</td>\n",
       "      <td>NaN</td>\n",
       "      <td>NaN</td>\n",
       "      <td>NaN</td>\n",
       "      <td>NaN</td>\n",
       "    </tr>\n",
       "    <tr>\n",
       "      <th>GarageFinish</th>\n",
       "      <td>NaN</td>\n",
       "      <td>NaN</td>\n",
       "      <td>NaN</td>\n",
       "      <td>NaN</td>\n",
       "      <td>NaN</td>\n",
       "      <td>NaN</td>\n",
       "      <td>NaN</td>\n",
       "      <td>NaN</td>\n",
       "      <td>NaN</td>\n",
       "      <td>NaN</td>\n",
       "      <td>...</td>\n",
       "      <td>NaN</td>\n",
       "      <td>NaN</td>\n",
       "      <td>NaN</td>\n",
       "      <td>NaN</td>\n",
       "      <td>NaN</td>\n",
       "      <td>NaN</td>\n",
       "      <td>NaN</td>\n",
       "      <td>NaN</td>\n",
       "      <td>NaN</td>\n",
       "      <td>NaN</td>\n",
       "    </tr>\n",
       "    <tr>\n",
       "      <th>GarageCars</th>\n",
       "      <td>NaN</td>\n",
       "      <td>NaN</td>\n",
       "      <td>NaN</td>\n",
       "      <td>NaN</td>\n",
       "      <td>NaN</td>\n",
       "      <td>NaN</td>\n",
       "      <td>NaN</td>\n",
       "      <td>NaN</td>\n",
       "      <td>NaN</td>\n",
       "      <td>NaN</td>\n",
       "      <td>...</td>\n",
       "      <td>0.849383</td>\n",
       "      <td>NaN</td>\n",
       "      <td>NaN</td>\n",
       "      <td>NaN</td>\n",
       "      <td>NaN</td>\n",
       "      <td>NaN</td>\n",
       "      <td>NaN</td>\n",
       "      <td>NaN</td>\n",
       "      <td>NaN</td>\n",
       "      <td>NaN</td>\n",
       "    </tr>\n",
       "    <tr>\n",
       "      <th>GarageArea</th>\n",
       "      <td>NaN</td>\n",
       "      <td>NaN</td>\n",
       "      <td>NaN</td>\n",
       "      <td>NaN</td>\n",
       "      <td>NaN</td>\n",
       "      <td>NaN</td>\n",
       "      <td>NaN</td>\n",
       "      <td>NaN</td>\n",
       "      <td>NaN</td>\n",
       "      <td>NaN</td>\n",
       "      <td>...</td>\n",
       "      <td>1.000000</td>\n",
       "      <td>NaN</td>\n",
       "      <td>NaN</td>\n",
       "      <td>NaN</td>\n",
       "      <td>NaN</td>\n",
       "      <td>NaN</td>\n",
       "      <td>NaN</td>\n",
       "      <td>NaN</td>\n",
       "      <td>NaN</td>\n",
       "      <td>NaN</td>\n",
       "    </tr>\n",
       "    <tr>\n",
       "      <th>GarageQual</th>\n",
       "      <td>NaN</td>\n",
       "      <td>NaN</td>\n",
       "      <td>NaN</td>\n",
       "      <td>NaN</td>\n",
       "      <td>NaN</td>\n",
       "      <td>NaN</td>\n",
       "      <td>NaN</td>\n",
       "      <td>NaN</td>\n",
       "      <td>NaN</td>\n",
       "      <td>NaN</td>\n",
       "      <td>...</td>\n",
       "      <td>NaN</td>\n",
       "      <td>1.0</td>\n",
       "      <td>NaN</td>\n",
       "      <td>NaN</td>\n",
       "      <td>NaN</td>\n",
       "      <td>NaN</td>\n",
       "      <td>NaN</td>\n",
       "      <td>NaN</td>\n",
       "      <td>NaN</td>\n",
       "      <td>NaN</td>\n",
       "    </tr>\n",
       "    <tr>\n",
       "      <th>PavedDrive</th>\n",
       "      <td>NaN</td>\n",
       "      <td>NaN</td>\n",
       "      <td>NaN</td>\n",
       "      <td>NaN</td>\n",
       "      <td>NaN</td>\n",
       "      <td>NaN</td>\n",
       "      <td>NaN</td>\n",
       "      <td>NaN</td>\n",
       "      <td>NaN</td>\n",
       "      <td>NaN</td>\n",
       "      <td>...</td>\n",
       "      <td>NaN</td>\n",
       "      <td>NaN</td>\n",
       "      <td>1.0</td>\n",
       "      <td>NaN</td>\n",
       "      <td>NaN</td>\n",
       "      <td>NaN</td>\n",
       "      <td>NaN</td>\n",
       "      <td>NaN</td>\n",
       "      <td>NaN</td>\n",
       "      <td>NaN</td>\n",
       "    </tr>\n",
       "    <tr>\n",
       "      <th>WoodDeckSF</th>\n",
       "      <td>NaN</td>\n",
       "      <td>NaN</td>\n",
       "      <td>NaN</td>\n",
       "      <td>NaN</td>\n",
       "      <td>NaN</td>\n",
       "      <td>NaN</td>\n",
       "      <td>NaN</td>\n",
       "      <td>NaN</td>\n",
       "      <td>NaN</td>\n",
       "      <td>NaN</td>\n",
       "      <td>...</td>\n",
       "      <td>NaN</td>\n",
       "      <td>NaN</td>\n",
       "      <td>NaN</td>\n",
       "      <td>1.0</td>\n",
       "      <td>NaN</td>\n",
       "      <td>NaN</td>\n",
       "      <td>NaN</td>\n",
       "      <td>NaN</td>\n",
       "      <td>NaN</td>\n",
       "      <td>NaN</td>\n",
       "    </tr>\n",
       "    <tr>\n",
       "      <th>MoSold</th>\n",
       "      <td>NaN</td>\n",
       "      <td>NaN</td>\n",
       "      <td>NaN</td>\n",
       "      <td>NaN</td>\n",
       "      <td>NaN</td>\n",
       "      <td>NaN</td>\n",
       "      <td>NaN</td>\n",
       "      <td>NaN</td>\n",
       "      <td>NaN</td>\n",
       "      <td>NaN</td>\n",
       "      <td>...</td>\n",
       "      <td>NaN</td>\n",
       "      <td>NaN</td>\n",
       "      <td>NaN</td>\n",
       "      <td>NaN</td>\n",
       "      <td>1.0</td>\n",
       "      <td>NaN</td>\n",
       "      <td>NaN</td>\n",
       "      <td>NaN</td>\n",
       "      <td>NaN</td>\n",
       "      <td>NaN</td>\n",
       "    </tr>\n",
       "    <tr>\n",
       "      <th>YrSold</th>\n",
       "      <td>NaN</td>\n",
       "      <td>NaN</td>\n",
       "      <td>NaN</td>\n",
       "      <td>NaN</td>\n",
       "      <td>NaN</td>\n",
       "      <td>NaN</td>\n",
       "      <td>NaN</td>\n",
       "      <td>NaN</td>\n",
       "      <td>NaN</td>\n",
       "      <td>NaN</td>\n",
       "      <td>...</td>\n",
       "      <td>NaN</td>\n",
       "      <td>NaN</td>\n",
       "      <td>NaN</td>\n",
       "      <td>NaN</td>\n",
       "      <td>NaN</td>\n",
       "      <td>1.0</td>\n",
       "      <td>NaN</td>\n",
       "      <td>NaN</td>\n",
       "      <td>NaN</td>\n",
       "      <td>NaN</td>\n",
       "    </tr>\n",
       "    <tr>\n",
       "      <th>SaleType</th>\n",
       "      <td>NaN</td>\n",
       "      <td>NaN</td>\n",
       "      <td>NaN</td>\n",
       "      <td>NaN</td>\n",
       "      <td>NaN</td>\n",
       "      <td>NaN</td>\n",
       "      <td>NaN</td>\n",
       "      <td>NaN</td>\n",
       "      <td>NaN</td>\n",
       "      <td>NaN</td>\n",
       "      <td>...</td>\n",
       "      <td>NaN</td>\n",
       "      <td>NaN</td>\n",
       "      <td>NaN</td>\n",
       "      <td>NaN</td>\n",
       "      <td>NaN</td>\n",
       "      <td>NaN</td>\n",
       "      <td>1.0</td>\n",
       "      <td>NaN</td>\n",
       "      <td>NaN</td>\n",
       "      <td>NaN</td>\n",
       "    </tr>\n",
       "    <tr>\n",
       "      <th>SaleCondition</th>\n",
       "      <td>NaN</td>\n",
       "      <td>NaN</td>\n",
       "      <td>NaN</td>\n",
       "      <td>NaN</td>\n",
       "      <td>NaN</td>\n",
       "      <td>NaN</td>\n",
       "      <td>NaN</td>\n",
       "      <td>NaN</td>\n",
       "      <td>NaN</td>\n",
       "      <td>NaN</td>\n",
       "      <td>...</td>\n",
       "      <td>NaN</td>\n",
       "      <td>NaN</td>\n",
       "      <td>NaN</td>\n",
       "      <td>NaN</td>\n",
       "      <td>NaN</td>\n",
       "      <td>NaN</td>\n",
       "      <td>NaN</td>\n",
       "      <td>1.0</td>\n",
       "      <td>NaN</td>\n",
       "      <td>NaN</td>\n",
       "    </tr>\n",
       "    <tr>\n",
       "      <th>SalePrice</th>\n",
       "      <td>NaN</td>\n",
       "      <td>NaN</td>\n",
       "      <td>NaN</td>\n",
       "      <td>NaN</td>\n",
       "      <td>NaN</td>\n",
       "      <td>NaN</td>\n",
       "      <td>NaN</td>\n",
       "      <td>NaN</td>\n",
       "      <td>NaN</td>\n",
       "      <td>NaN</td>\n",
       "      <td>...</td>\n",
       "      <td>NaN</td>\n",
       "      <td>NaN</td>\n",
       "      <td>NaN</td>\n",
       "      <td>NaN</td>\n",
       "      <td>NaN</td>\n",
       "      <td>NaN</td>\n",
       "      <td>NaN</td>\n",
       "      <td>NaN</td>\n",
       "      <td>1.000000</td>\n",
       "      <td>NaN</td>\n",
       "    </tr>\n",
       "    <tr>\n",
       "      <th>Porch</th>\n",
       "      <td>NaN</td>\n",
       "      <td>NaN</td>\n",
       "      <td>NaN</td>\n",
       "      <td>NaN</td>\n",
       "      <td>NaN</td>\n",
       "      <td>NaN</td>\n",
       "      <td>NaN</td>\n",
       "      <td>NaN</td>\n",
       "      <td>NaN</td>\n",
       "      <td>NaN</td>\n",
       "      <td>...</td>\n",
       "      <td>NaN</td>\n",
       "      <td>NaN</td>\n",
       "      <td>NaN</td>\n",
       "      <td>NaN</td>\n",
       "      <td>NaN</td>\n",
       "      <td>NaN</td>\n",
       "      <td>NaN</td>\n",
       "      <td>NaN</td>\n",
       "      <td>NaN</td>\n",
       "      <td>1.0</td>\n",
       "    </tr>\n",
       "  </tbody>\n",
       "</table>\n",
       "<p>53 rows × 53 columns</p>\n",
       "</div>"
      ],
      "text/plain": [
       "               MSSubClass  MSZoning  LotFrontage  LotArea  LotShape  \\\n",
       "MSSubClass            1.0       NaN          NaN      NaN       NaN   \n",
       "MSZoning              NaN       1.0          NaN      NaN       NaN   \n",
       "LotFrontage           NaN       NaN          1.0      NaN       NaN   \n",
       "LotArea               NaN       NaN          NaN      1.0       NaN   \n",
       "LotShape              NaN       NaN          NaN      NaN       1.0   \n",
       "LandContour           NaN       NaN          NaN      NaN       NaN   \n",
       "LotConfig             NaN       NaN          NaN      NaN       NaN   \n",
       "Neighborhood          NaN       NaN          NaN      NaN       NaN   \n",
       "BldgType              NaN       NaN          NaN      NaN       NaN   \n",
       "HouseStyle            NaN       NaN          NaN      NaN       NaN   \n",
       "OverallQual           NaN       NaN          NaN      NaN       NaN   \n",
       "YearBuilt             NaN       NaN          NaN      NaN       NaN   \n",
       "YearRemodAdd          NaN       NaN          NaN      NaN       NaN   \n",
       "RoofStyle             NaN       NaN          NaN      NaN       NaN   \n",
       "Exterior2nd           NaN       NaN          NaN      NaN       NaN   \n",
       "MasVnrType            NaN       NaN          NaN      NaN       NaN   \n",
       "ExterCond             NaN       NaN          NaN      NaN       NaN   \n",
       "Foundation            NaN       NaN          NaN      NaN       NaN   \n",
       "BsmtQual              NaN       NaN          NaN      NaN       NaN   \n",
       "BsmtCond              NaN       NaN          NaN      NaN       NaN   \n",
       "BsmtExposure          NaN       NaN          NaN      NaN       NaN   \n",
       "BsmtFinType1          NaN       NaN          NaN      NaN       NaN   \n",
       "BsmtFinSF1            NaN       NaN          NaN      NaN       NaN   \n",
       "BsmtUnfSF             NaN       NaN          NaN      NaN       NaN   \n",
       "TotalBsmtSF           NaN       NaN          NaN      NaN       NaN   \n",
       "HeatingQC             NaN       NaN          NaN      NaN       NaN   \n",
       "CentralAir            NaN       NaN          NaN      NaN       NaN   \n",
       "Electrical            NaN       NaN          NaN      NaN       NaN   \n",
       "1stFlrSF              NaN       NaN          NaN      NaN       NaN   \n",
       "GrLivArea             NaN       NaN          NaN      NaN       NaN   \n",
       "BsmtFullBath          NaN       NaN          NaN      NaN       NaN   \n",
       "BsmtHalfBath          NaN       NaN          NaN      NaN       NaN   \n",
       "FullBath              NaN       NaN          NaN      NaN       NaN   \n",
       "HalfBath              NaN       NaN          NaN      NaN       NaN   \n",
       "BedroomAbvGr          NaN       NaN          NaN      NaN       NaN   \n",
       "KitchenQual           NaN       NaN          NaN      NaN       NaN   \n",
       "TotRmsAbvGrd          NaN       NaN          NaN      NaN       NaN   \n",
       "Functional            NaN       NaN          NaN      NaN       NaN   \n",
       "Fireplaces            NaN       NaN          NaN      NaN       NaN   \n",
       "GarageType            NaN       NaN          NaN      NaN       NaN   \n",
       "GarageYrBlt           NaN       NaN          NaN      NaN       NaN   \n",
       "GarageFinish          NaN       NaN          NaN      NaN       NaN   \n",
       "GarageCars            NaN       NaN          NaN      NaN       NaN   \n",
       "GarageArea            NaN       NaN          NaN      NaN       NaN   \n",
       "GarageQual            NaN       NaN          NaN      NaN       NaN   \n",
       "PavedDrive            NaN       NaN          NaN      NaN       NaN   \n",
       "WoodDeckSF            NaN       NaN          NaN      NaN       NaN   \n",
       "MoSold                NaN       NaN          NaN      NaN       NaN   \n",
       "YrSold                NaN       NaN          NaN      NaN       NaN   \n",
       "SaleType              NaN       NaN          NaN      NaN       NaN   \n",
       "SaleCondition         NaN       NaN          NaN      NaN       NaN   \n",
       "SalePrice             NaN       NaN          NaN      NaN       NaN   \n",
       "Porch                 NaN       NaN          NaN      NaN       NaN   \n",
       "\n",
       "               LandContour  LotConfig  Neighborhood  BldgType  HouseStyle  \\\n",
       "MSSubClass             NaN        NaN           NaN       NaN         NaN   \n",
       "MSZoning               NaN        NaN           NaN       NaN         NaN   \n",
       "LotFrontage            NaN        NaN           NaN       NaN         NaN   \n",
       "LotArea                NaN        NaN           NaN       NaN         NaN   \n",
       "LotShape               NaN        NaN           NaN       NaN         NaN   \n",
       "LandContour            1.0        NaN           NaN       NaN         NaN   \n",
       "LotConfig              NaN        1.0           NaN       NaN         NaN   \n",
       "Neighborhood           NaN        NaN           1.0       NaN         NaN   \n",
       "BldgType               NaN        NaN           NaN       1.0         NaN   \n",
       "HouseStyle             NaN        NaN           NaN       NaN         1.0   \n",
       "OverallQual            NaN        NaN           NaN       NaN         NaN   \n",
       "YearBuilt              NaN        NaN           NaN       NaN         NaN   \n",
       "YearRemodAdd           NaN        NaN           NaN       NaN         NaN   \n",
       "RoofStyle              NaN        NaN           NaN       NaN         NaN   \n",
       "Exterior2nd            NaN        NaN           NaN       NaN         NaN   \n",
       "MasVnrType             NaN        NaN           NaN       NaN         NaN   \n",
       "ExterCond              NaN        NaN           NaN       NaN         NaN   \n",
       "Foundation             NaN        NaN           NaN       NaN         NaN   \n",
       "BsmtQual               NaN        NaN           NaN       NaN         NaN   \n",
       "BsmtCond               NaN        NaN           NaN       NaN         NaN   \n",
       "BsmtExposure           NaN        NaN           NaN       NaN         NaN   \n",
       "BsmtFinType1           NaN        NaN           NaN       NaN         NaN   \n",
       "BsmtFinSF1             NaN        NaN           NaN       NaN         NaN   \n",
       "BsmtUnfSF              NaN        NaN           NaN       NaN         NaN   \n",
       "TotalBsmtSF            NaN        NaN           NaN       NaN         NaN   \n",
       "HeatingQC              NaN        NaN           NaN       NaN         NaN   \n",
       "CentralAir             NaN        NaN           NaN       NaN         NaN   \n",
       "Electrical             NaN        NaN           NaN       NaN         NaN   \n",
       "1stFlrSF               NaN        NaN           NaN       NaN         NaN   \n",
       "GrLivArea              NaN        NaN           NaN       NaN         NaN   \n",
       "BsmtFullBath           NaN        NaN           NaN       NaN         NaN   \n",
       "BsmtHalfBath           NaN        NaN           NaN       NaN         NaN   \n",
       "FullBath               NaN        NaN           NaN       NaN         NaN   \n",
       "HalfBath               NaN        NaN           NaN       NaN         NaN   \n",
       "BedroomAbvGr           NaN        NaN           NaN       NaN         NaN   \n",
       "KitchenQual            NaN        NaN           NaN       NaN         NaN   \n",
       "TotRmsAbvGrd           NaN        NaN           NaN       NaN         NaN   \n",
       "Functional             NaN        NaN           NaN       NaN         NaN   \n",
       "Fireplaces             NaN        NaN           NaN       NaN         NaN   \n",
       "GarageType             NaN        NaN           NaN       NaN         NaN   \n",
       "GarageYrBlt            NaN        NaN           NaN       NaN         NaN   \n",
       "GarageFinish           NaN        NaN           NaN       NaN         NaN   \n",
       "GarageCars             NaN        NaN           NaN       NaN         NaN   \n",
       "GarageArea             NaN        NaN           NaN       NaN         NaN   \n",
       "GarageQual             NaN        NaN           NaN       NaN         NaN   \n",
       "PavedDrive             NaN        NaN           NaN       NaN         NaN   \n",
       "WoodDeckSF             NaN        NaN           NaN       NaN         NaN   \n",
       "MoSold                 NaN        NaN           NaN       NaN         NaN   \n",
       "YrSold                 NaN        NaN           NaN       NaN         NaN   \n",
       "SaleType               NaN        NaN           NaN       NaN         NaN   \n",
       "SaleCondition          NaN        NaN           NaN       NaN         NaN   \n",
       "SalePrice              NaN        NaN           NaN       NaN         NaN   \n",
       "Porch                  NaN        NaN           NaN       NaN         NaN   \n",
       "\n",
       "               ...  GarageArea  GarageQual  PavedDrive  WoodDeckSF  MoSold  \\\n",
       "MSSubClass     ...         NaN         NaN         NaN         NaN     NaN   \n",
       "MSZoning       ...         NaN         NaN         NaN         NaN     NaN   \n",
       "LotFrontage    ...         NaN         NaN         NaN         NaN     NaN   \n",
       "LotArea        ...         NaN         NaN         NaN         NaN     NaN   \n",
       "LotShape       ...         NaN         NaN         NaN         NaN     NaN   \n",
       "LandContour    ...         NaN         NaN         NaN         NaN     NaN   \n",
       "LotConfig      ...         NaN         NaN         NaN         NaN     NaN   \n",
       "Neighborhood   ...         NaN         NaN         NaN         NaN     NaN   \n",
       "BldgType       ...         NaN         NaN         NaN         NaN     NaN   \n",
       "HouseStyle     ...         NaN         NaN         NaN         NaN     NaN   \n",
       "OverallQual    ...         NaN         NaN         NaN         NaN     NaN   \n",
       "YearBuilt      ...         NaN         NaN         NaN         NaN     NaN   \n",
       "YearRemodAdd   ...         NaN         NaN         NaN         NaN     NaN   \n",
       "RoofStyle      ...         NaN         NaN         NaN         NaN     NaN   \n",
       "Exterior2nd    ...         NaN         NaN         NaN         NaN     NaN   \n",
       "MasVnrType     ...         NaN         NaN         NaN         NaN     NaN   \n",
       "ExterCond      ...         NaN         NaN         NaN         NaN     NaN   \n",
       "Foundation     ...         NaN         NaN         NaN         NaN     NaN   \n",
       "BsmtQual       ...         NaN         NaN         NaN         NaN     NaN   \n",
       "BsmtCond       ...         NaN         NaN         NaN         NaN     NaN   \n",
       "BsmtExposure   ...         NaN         NaN         NaN         NaN     NaN   \n",
       "BsmtFinType1   ...         NaN         NaN         NaN         NaN     NaN   \n",
       "BsmtFinSF1     ...         NaN         NaN         NaN         NaN     NaN   \n",
       "BsmtUnfSF      ...         NaN         NaN         NaN         NaN     NaN   \n",
       "TotalBsmtSF    ...         NaN         NaN         NaN         NaN     NaN   \n",
       "HeatingQC      ...         NaN         NaN         NaN         NaN     NaN   \n",
       "CentralAir     ...         NaN         NaN         NaN         NaN     NaN   \n",
       "Electrical     ...         NaN         NaN         NaN         NaN     NaN   \n",
       "1stFlrSF       ...         NaN         NaN         NaN         NaN     NaN   \n",
       "GrLivArea      ...         NaN         NaN         NaN         NaN     NaN   \n",
       "BsmtFullBath   ...         NaN         NaN         NaN         NaN     NaN   \n",
       "BsmtHalfBath   ...         NaN         NaN         NaN         NaN     NaN   \n",
       "FullBath       ...         NaN         NaN         NaN         NaN     NaN   \n",
       "HalfBath       ...         NaN         NaN         NaN         NaN     NaN   \n",
       "BedroomAbvGr   ...         NaN         NaN         NaN         NaN     NaN   \n",
       "KitchenQual    ...         NaN         NaN         NaN         NaN     NaN   \n",
       "TotRmsAbvGrd   ...         NaN         NaN         NaN         NaN     NaN   \n",
       "Functional     ...         NaN         NaN         NaN         NaN     NaN   \n",
       "Fireplaces     ...         NaN         NaN         NaN         NaN     NaN   \n",
       "GarageType     ...         NaN         NaN         NaN         NaN     NaN   \n",
       "GarageYrBlt    ...         NaN         NaN         NaN         NaN     NaN   \n",
       "GarageFinish   ...         NaN         NaN         NaN         NaN     NaN   \n",
       "GarageCars     ...    0.849383         NaN         NaN         NaN     NaN   \n",
       "GarageArea     ...    1.000000         NaN         NaN         NaN     NaN   \n",
       "GarageQual     ...         NaN         1.0         NaN         NaN     NaN   \n",
       "PavedDrive     ...         NaN         NaN         1.0         NaN     NaN   \n",
       "WoodDeckSF     ...         NaN         NaN         NaN         1.0     NaN   \n",
       "MoSold         ...         NaN         NaN         NaN         NaN     1.0   \n",
       "YrSold         ...         NaN         NaN         NaN         NaN     NaN   \n",
       "SaleType       ...         NaN         NaN         NaN         NaN     NaN   \n",
       "SaleCondition  ...         NaN         NaN         NaN         NaN     NaN   \n",
       "SalePrice      ...         NaN         NaN         NaN         NaN     NaN   \n",
       "Porch          ...         NaN         NaN         NaN         NaN     NaN   \n",
       "\n",
       "               YrSold  SaleType  SaleCondition  SalePrice  Porch  \n",
       "MSSubClass        NaN       NaN            NaN        NaN    NaN  \n",
       "MSZoning          NaN       NaN            NaN        NaN    NaN  \n",
       "LotFrontage       NaN       NaN            NaN        NaN    NaN  \n",
       "LotArea           NaN       NaN            NaN        NaN    NaN  \n",
       "LotShape          NaN       NaN            NaN        NaN    NaN  \n",
       "LandContour       NaN       NaN            NaN        NaN    NaN  \n",
       "LotConfig         NaN       NaN            NaN        NaN    NaN  \n",
       "Neighborhood      NaN       NaN            NaN        NaN    NaN  \n",
       "BldgType          NaN       NaN            NaN        NaN    NaN  \n",
       "HouseStyle        NaN       NaN            NaN        NaN    NaN  \n",
       "OverallQual       NaN       NaN            NaN   0.812968    NaN  \n",
       "YearBuilt         NaN       NaN            NaN        NaN    NaN  \n",
       "YearRemodAdd      NaN       NaN            NaN        NaN    NaN  \n",
       "RoofStyle         NaN       NaN            NaN        NaN    NaN  \n",
       "Exterior2nd       NaN       NaN            NaN        NaN    NaN  \n",
       "MasVnrType        NaN       NaN            NaN        NaN    NaN  \n",
       "ExterCond         NaN       NaN            NaN        NaN    NaN  \n",
       "Foundation        NaN       NaN            NaN        NaN    NaN  \n",
       "BsmtQual          NaN       NaN            NaN        NaN    NaN  \n",
       "BsmtCond          NaN       NaN            NaN        NaN    NaN  \n",
       "BsmtExposure      NaN       NaN            NaN        NaN    NaN  \n",
       "BsmtFinType1      NaN       NaN            NaN        NaN    NaN  \n",
       "BsmtFinSF1        NaN       NaN            NaN        NaN    NaN  \n",
       "BsmtUnfSF         NaN       NaN            NaN        NaN    NaN  \n",
       "TotalBsmtSF       NaN       NaN            NaN        NaN    NaN  \n",
       "HeatingQC         NaN       NaN            NaN        NaN    NaN  \n",
       "CentralAir        NaN       NaN            NaN        NaN    NaN  \n",
       "Electrical        NaN       NaN            NaN        NaN    NaN  \n",
       "1stFlrSF          NaN       NaN            NaN        NaN    NaN  \n",
       "GrLivArea         NaN       NaN            NaN        NaN    NaN  \n",
       "BsmtFullBath      NaN       NaN            NaN        NaN    NaN  \n",
       "BsmtHalfBath      NaN       NaN            NaN        NaN    NaN  \n",
       "FullBath          NaN       NaN            NaN        NaN    NaN  \n",
       "HalfBath          NaN       NaN            NaN        NaN    NaN  \n",
       "BedroomAbvGr      NaN       NaN            NaN        NaN    NaN  \n",
       "KitchenQual       NaN       NaN            NaN        NaN    NaN  \n",
       "TotRmsAbvGrd      NaN       NaN            NaN        NaN    NaN  \n",
       "Functional        NaN       NaN            NaN        NaN    NaN  \n",
       "Fireplaces        NaN       NaN            NaN        NaN    NaN  \n",
       "GarageType        NaN       NaN            NaN        NaN    NaN  \n",
       "GarageYrBlt       NaN       NaN            NaN        NaN    NaN  \n",
       "GarageFinish      NaN       NaN            NaN        NaN    NaN  \n",
       "GarageCars        NaN       NaN            NaN        NaN    NaN  \n",
       "GarageArea        NaN       NaN            NaN        NaN    NaN  \n",
       "GarageQual        NaN       NaN            NaN        NaN    NaN  \n",
       "PavedDrive        NaN       NaN            NaN        NaN    NaN  \n",
       "WoodDeckSF        NaN       NaN            NaN        NaN    NaN  \n",
       "MoSold            NaN       NaN            NaN        NaN    NaN  \n",
       "YrSold            1.0       NaN            NaN        NaN    NaN  \n",
       "SaleType          NaN       1.0            NaN        NaN    NaN  \n",
       "SaleCondition     NaN       NaN            1.0        NaN    NaN  \n",
       "SalePrice         NaN       NaN            NaN   1.000000    NaN  \n",
       "Porch             NaN       NaN            NaN        NaN    1.0  \n",
       "\n",
       "[53 rows x 53 columns]"
      ]
     },
     "execution_count": 181,
     "metadata": {},
     "output_type": "execute_result"
    }
   ],
   "source": [
    "c[c>0.8]"
   ]
  },
  {
   "cell_type": "code",
   "execution_count": 182,
   "id": "48517ab9",
   "metadata": {},
   "outputs": [],
   "source": [
    "t.drop(['GarageCars','OverallQual'],axis=1,inplace=True)"
   ]
  },
  {
   "cell_type": "code",
   "execution_count": 183,
   "id": "15b410a9",
   "metadata": {},
   "outputs": [
    {
     "name": "stdout",
     "output_type": "stream",
     "text": [
      "<class 'pandas.core.frame.DataFrame'>\n",
      "Int64Index: 1005 entries, 0 to 1459\n",
      "Data columns (total 51 columns):\n",
      " #   Column         Non-Null Count  Dtype  \n",
      "---  ------         --------------  -----  \n",
      " 0   MSSubClass     1005 non-null   int64  \n",
      " 1   MSZoning       1005 non-null   int32  \n",
      " 2   LotFrontage    1005 non-null   float64\n",
      " 3   LotArea        1005 non-null   float64\n",
      " 4   LotShape       1005 non-null   int32  \n",
      " 5   LandContour    1005 non-null   int32  \n",
      " 6   LotConfig      1005 non-null   int32  \n",
      " 7   Neighborhood   1005 non-null   int32  \n",
      " 8   BldgType       1005 non-null   int32  \n",
      " 9   HouseStyle     1005 non-null   int32  \n",
      " 10  YearBuilt      1005 non-null   int64  \n",
      " 11  YearRemodAdd   1005 non-null   int64  \n",
      " 12  RoofStyle      1005 non-null   int32  \n",
      " 13  Exterior2nd    1005 non-null   int32  \n",
      " 14  MasVnrType     1005 non-null   int32  \n",
      " 15  ExterCond      1005 non-null   int32  \n",
      " 16  Foundation     1005 non-null   int32  \n",
      " 17  BsmtQual       1005 non-null   int32  \n",
      " 18  BsmtCond       1005 non-null   int32  \n",
      " 19  BsmtExposure   1005 non-null   int32  \n",
      " 20  BsmtFinType1   1005 non-null   int32  \n",
      " 21  BsmtFinSF1     1005 non-null   int64  \n",
      " 22  BsmtUnfSF      1005 non-null   int64  \n",
      " 23  TotalBsmtSF    1005 non-null   int64  \n",
      " 24  HeatingQC      1005 non-null   int32  \n",
      " 25  CentralAir     1005 non-null   int32  \n",
      " 26  Electrical     1005 non-null   int32  \n",
      " 27  1stFlrSF       1005 non-null   float64\n",
      " 28  GrLivArea      1005 non-null   float64\n",
      " 29  BsmtFullBath   1005 non-null   int64  \n",
      " 30  BsmtHalfBath   1005 non-null   int64  \n",
      " 31  FullBath       1005 non-null   int64  \n",
      " 32  HalfBath       1005 non-null   int64  \n",
      " 33  BedroomAbvGr   1005 non-null   int64  \n",
      " 34  KitchenQual    1005 non-null   int32  \n",
      " 35  TotRmsAbvGrd   1005 non-null   int64  \n",
      " 36  Functional     1005 non-null   int32  \n",
      " 37  Fireplaces     1005 non-null   int64  \n",
      " 38  GarageType     1005 non-null   int32  \n",
      " 39  GarageYrBlt    1005 non-null   float64\n",
      " 40  GarageFinish   1005 non-null   int32  \n",
      " 41  GarageArea     1005 non-null   float64\n",
      " 42  GarageQual     1005 non-null   int32  \n",
      " 43  PavedDrive     1005 non-null   int32  \n",
      " 44  WoodDeckSF     1005 non-null   float64\n",
      " 45  MoSold         1005 non-null   float64\n",
      " 46  YrSold         1005 non-null   float64\n",
      " 47  SaleType       1005 non-null   int32  \n",
      " 48  SaleCondition  1005 non-null   int32  \n",
      " 49  SalePrice      1005 non-null   int64  \n",
      " 50  Porch          1005 non-null   float64\n",
      "dtypes: float64(10), int32(27), int64(14)\n",
      "memory usage: 302.3 KB\n"
     ]
    }
   ],
   "source": [
    "t.info()"
   ]
  },
  {
   "cell_type": "code",
   "execution_count": 184,
   "id": "a30006c6",
   "metadata": {},
   "outputs": [
    {
     "data": {
      "text/plain": [
       "<mpl_toolkits.mplot3d.art3d.Path3DCollection at 0x21e102bc5b0>"
      ]
     },
     "execution_count": 184,
     "metadata": {},
     "output_type": "execute_result"
    },
    {
     "data": {
      "image/png": "[encoded data removed]",
      "text/plain": [
       "<Figure size 640x480 with 1 Axes>"
      ]
     },
     "metadata": {},
     "output_type": "display_data"
    }
   ],
   "source": [
    "ax=plt.axes(projection='3d')\n",
    "ax.scatter3D(t.SaleCondition,t.SalePrice,t.SaleType)"
   ]
  },
  {
   "cell_type": "code",
   "execution_count": 185,
   "id": "dca7e1e9",
   "metadata": {},
   "outputs": [
    {
     "data": {
      "text/plain": [
       "1005"
      ]
     },
     "execution_count": 185,
     "metadata": {},
     "output_type": "execute_result"
    }
   ],
   "source": [
    "t.shape[0]"
   ]
  },
  {
   "cell_type": "code",
   "execution_count": 186,
   "id": "5bb55af6",
   "metadata": {},
   "outputs": [],
   "source": [
    "x_train,x_test,y_train,y_test=train_test_split(t.drop('SalePrice',axis=1),t['SalePrice'],test_size=0.2,random_state=101)"
   ]
  },
  {
   "cell_type": "code",
   "execution_count": 241,
   "id": "e0e1d03d",
   "metadata": {},
   "outputs": [],
   "source": [
    "import numpy as np\n",
    "class Regressor():\n",
    "    def __init__(self, learning_rate=0.01, tol=0.01, seed=None,normalize=False):\n",
    "        self.W = None\n",
    "        self.b = None\n",
    "        self.__lr = learning_rate\n",
    "        self.__tol = tol\n",
    "        self.__length = None\n",
    "        self.__normalize = normalize\n",
    "        self.__m = None\n",
    "        self.__costs = []\n",
    "        self.__iterations = []\n",
    "        np.random.seed(seed if seed is not None else np.random.randint(100))\n",
    "    def __initialize_weights_and_bias(self):\n",
    "        self.W = np.random.randn(self.__length) #(n,1)\n",
    "        self.b = 0\n",
    "    def __computeCost(self,h,Y):\n",
    "        loss = np.square(h-Y)\n",
    "        cost = np.sum(loss)/(2*self.__m)\n",
    "        return cost\n",
    "    def __optimize(self,X,Y):\n",
    "        h = np.dot(X,self.W)+self.b\n",
    "        dW = np.dot( X.T, (h-Y) ) / self.__m\n",
    "        db = np.sum( h-Y )  / self.__m\n",
    "        self.W = self.W - self.__lr*dW\n",
    "        self.b = self.b - self.__lr*db\n",
    "    def __normalizeX(self,X):return (X-self.__mean) / (self.__std)\n",
    "    def fit(self, X, y, verbose=False):\n",
    "        if self.__normalize:\n",
    "            self.__mean, self.__std = X.mean(axis=0), X.std(axis=0)\n",
    "            X = self.__normalizeX(X)\n",
    "        self.__m,self.__length = X.shape\n",
    "        self.__initialize_weights_and_bias()\n",
    "        last_cost,i = float('inf'),0\n",
    "        while True:\n",
    "            h = np.dot(X,self.W)+self.b\n",
    "            cost = self.__computeCost(h,y)\n",
    "            if verbose: print(f\"Iteration: {i}, Cost: {cost:.3f}\")\n",
    "            self.__optimize(X,y)\n",
    "            if last_cost-cost < self.__tol: break\n",
    "            else: last_cost,i = cost,i+1\n",
    "            self.__costs.append(cost)\n",
    "            self.__iterations.append(i)\n",
    "    def predict(self,X):\n",
    "        if self.__normalize: X = self.__normalizeX(X)\n",
    "        return np.dot(X,self.W)+self.b\n",
    "    def plot(self,figsize=(7,5)):\n",
    "        plt.figure(figsize=figsize)\n",
    "        plt.plot(self.__iterations,self.__costs)\n",
    "        plt.xlabel('Iterations')\n",
    "        plt.ylabel('Cost')\n",
    "        plt.title(\"Iterations vs Cost\")\n",
    "        plt.show()\n",
    "    def score(self,X,y):\n",
    "        return 1-(np.sum(((y-self.predict(X))**2))/np.sum((y-np.mean(y))**2))"
   ]
  },
  {
   "cell_type": "code",
   "execution_count": 242,
   "id": "320a70b1",
   "metadata": {},
   "outputs": [],
   "source": [
    "regressor = Regressor(normalize=True)"
   ]
  },
  {
   "cell_type": "code",
   "execution_count": 244,
   "id": "c024208f",
   "metadata": {},
   "outputs": [
    {
     "name": "stdout",
     "output_type": "stream",
     "text": [
      "Train Score: 0.8804138508813262\n",
      "Test Score:  0.8764541124174581\n"
     ]
    },
    {
     "data": {
      "image/png": "[encoded data removed]",
      "text/plain": [
       "<Figure size 700x500 with 1 Axes>"
      ]
     },
     "metadata": {},
     "output_type": "display_data"
    }
   ],
   "source": [
    "regressor.fit(x_train,y_train)\n",
    "\n",
    "train_score = regressor.score(x_train,y_train)\n",
    "test_score = regressor.score(x_test,y_test)\n",
    "\n",
    "print(\"Train Score:\", train_score)\n",
    "print(\"Test Score: \",test_score)\n",
    "regressor.plot()"
   ]
  },
  {
   "cell_type": "code",
   "execution_count": 250,
   "id": "51ad3aa4",
   "metadata": {},
   "outputs": [
    {
     "name": "stdout",
     "output_type": "stream",
     "text": [
      "Enter the value for MSSubClass:1\n",
      "Enter the value for MSZoning:1\n",
      "Enter the value for LotFrontage:1\n",
      "Enter the value for LotArea:1\n",
      "Enter the value for LotShape:1\n",
      "Enter the value for LandContour:1\n",
      "Enter the value for LotConfig:1\n",
      "Enter the value for Neighborhood:1\n",
      "Enter the value for BldgType:1\n",
      "Enter the value for HouseStyle:1\n",
      "Enter the value for YearBuilt:1\n",
      "Enter the value for YearRemodAdd:1\n",
      "Enter the value for RoofStyle:1\n",
      "Enter the value for Exterior2nd:1\n",
      "Enter the value for MasVnrType:1\n",
      "Enter the value for ExterCond:1\n",
      "Enter the value for Foundation:1\n",
      "Enter the value for BsmtQual:1\n",
      "Enter the value for BsmtCond:1\n",
      "Enter the value for BsmtExposure:1\n",
      "Enter the value for BsmtFinType1:1\n",
      "Enter the value for BsmtFinSF1:1\n",
      "Enter the value for BsmtUnfSF:1\n",
      "Enter the value for TotalBsmtSF:1\n",
      "Enter the value for HeatingQC:1\n",
      "Enter the value for CentralAir:1\n",
      "Enter the value for Electrical:1\n",
      "Enter the value for 1stFlrSF:1\n",
      "Enter the value for GrLivArea:1\n",
      "Enter the value for BsmtFullBath:1\n",
      "Enter the value for BsmtHalfBath:1\n",
      "Enter the value for FullBath:1\n",
      "Enter the value for HalfBath:1\n",
      "Enter the value for BedroomAbvGr:1\n",
      "Enter the value for KitchenQual:1\n",
      "Enter the value for TotRmsAbvGrd:1\n",
      "Enter the value for Functional:1\n",
      "Enter the value for Fireplaces:1\n",
      "Enter the value for GarageType:1\n",
      "Enter the value for GarageYrBlt:1\n",
      "Enter the value for GarageFinish:1\n",
      "Enter the value for GarageArea:1\n",
      "Enter the value for GarageQual:1\n",
      "Enter the value for PavedDrive:1\n",
      "Enter the value for WoodDeckSF:1\n",
      "Enter the value for MoSold:1\n",
      "Enter the value for YrSold:1\n",
      "Enter the value for SaleType:1\n",
      "Enter the value for SaleCondition:1\n",
      "Enter the value for Porch:1\n",
      "The house price is: 133845.41640952008\n"
     ]
    }
   ],
   "source": [
    "k=[]\n",
    "for i in x_train.columns:\n",
    "    g=f'Enter the value for {i}:'\n",
    "    n=float(input(g))\n",
    "    k.append(n)\n",
    "print('The house price is:',regressor.predict(k))"
   ]
  },
  {
   "cell_type": "code",
   "execution_count": null,
   "id": "7fa5db17",
   "metadata": {},
   "outputs": [],
   "source": []
  }
 ],
 "metadata": {
  "kernelspec": {
   "display_name": "Python 3 (ipykernel)",
   "language": "python",
   "name": "python3"
  },
  "language_info": {
   "codemirror_mode": {
    "name": "ipython",
    "version": 3
   },
   "file_extension": ".py",
   "mimetype": "text/x-python",
   "name": "python",
   "nbconvert_exporter": "python",
   "pygments_lexer": "ipython3",
   "version": "3.10.9"
  }
 },
 "nbformat": 4,
 "nbformat_minor": 5
}
